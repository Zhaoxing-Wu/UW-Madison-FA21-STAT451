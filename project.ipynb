{
 "cells": [
  {
   "cell_type": "markdown",
   "id": "3980c0bf",
   "metadata": {},
   "source": [
    "#### Import Packages"
   ]
  },
  {
   "cell_type": "code",
   "execution_count": 1,
   "id": "c684e655",
   "metadata": {},
   "outputs": [],
   "source": [
    "import numpy as np\n",
    "import pandas as pd\n",
    "import seaborn as sns\n",
    "import matplotlib.pyplot as plt\n",
    "import xgboost as xgb\n",
    "from sklearn import preprocessing\n",
    "from sklearn.preprocessing import LabelEncoder,StandardScaler, MinMaxScaler, StandardScaler, RobustScaler\n",
    "from sklearn.model_selection import train_test_split\n",
    "from sklearn.neighbors import KNeighborsClassifier\n",
    "from sklearn.metrics import confusion_matrix, roc_auc_score, f1_score, precision_score, recall_score, accuracy_score, auc, roc_curve\n",
    "from sklearn.ensemble import AdaBoostClassifier, RandomForestClassifier\n",
    "from sklearn.linear_model import LogisticRegression\n",
    "from sklearn.tree import DecisionTreeClassifier \n",
    "from xgboost import XGBClassifier, plot_importance\n",
    "from imblearn.over_sampling import RandomOverSampler\n",
    "from mlxtend.feature_selection import SequentialFeatureSelector as SFS\n",
    "from matplotlib import pyplot"
   ]
  },
  {
   "cell_type": "markdown",
   "id": "6454ce3b",
   "metadata": {},
   "source": [
    "Some interesting questions to address\n",
    "1. To which segment of the population is the marketing campaign going to address and why?\n",
    "2. Which instrument should we use to get our message out? (Ex: Telephones, Radio, TV, Social Media Etc.)\n",
    "3. What is the best price to offer to potential clients?\n",
    "4. indepth analysis of previous campaigns (If possible) in order to learn from previous mistakes and to determine how to make the marketing campaign much more effective."
   ]
  },
  {
   "cell_type": "markdown",
   "id": "d85e670c",
   "metadata": {},
   "source": [
    "#### Potential steps\n",
    "1. plot model performance using f1 score\n",
    "2. explanatory data analysis"
   ]
  },
  {
   "cell_type": "markdown",
   "id": "381c55c2-1ec2-43fc-8c66-4a2acbc4b857",
   "metadata": {},
   "source": [
    "# Data Prepocessing"
   ]
  },
  {
   "cell_type": "markdown",
   "id": "f1984664",
   "metadata": {},
   "source": [
    "### Import Dataset"
   ]
  },
  {
   "cell_type": "markdown",
   "id": "38f4522c-3671-4ce5-acff-bd29143e5392",
   "metadata": {},
   "source": [
    "Dataset Source: https://archive.ics.uci.edu/ml/datasets/Bank+Marketing?package=regsel&version=0.2<br>\n",
    "> Before implementing the following code, make sure 'bank-additional-full.csv' is in directory './data/bank-additional'<br>\n",
    "- semi-colon separated file\n",
    "- read 'unknown' as na\n",
    "- 41188 observations, 21 variables"
   ]
  },
  {
   "cell_type": "code",
   "execution_count": 2,
   "id": "d82389e3",
   "metadata": {},
   "outputs": [],
   "source": [
    "# use !pwd to check the current working directory\n",
    "df = pd.read_csv(\"./data/bank-additional/bank-additional-full.csv\", sep = ';', na_values = 'unknown')"
   ]
  },
  {
   "cell_type": "markdown",
   "id": "fb15d772",
   "metadata": {},
   "source": [
    "### Data Overview"
   ]
  },
  {
   "cell_type": "markdown",
   "id": "9d1a906f",
   "metadata": {},
   "source": [
    "- showing levels for categorical variables\n",
    "- there are missing values in variables jon, marital, education, default, housing, loan, y"
   ]
  },
  {
   "cell_type": "code",
   "execution_count": 3,
   "id": "fe96f2db",
   "metadata": {},
   "outputs": [
    {
     "name": "stdout",
     "output_type": "stream",
     "text": [
      "job\n",
      "['housemaid' 'services' 'admin.' 'blue-collar' 'technician' 'retired'\n",
      " 'management' 'unemployed' 'self-employed' nan 'entrepreneur' 'student']\n",
      "marital\n",
      "['married' 'single' 'divorced' nan]\n",
      "education\n",
      "['basic.4y' 'high.school' 'basic.6y' 'basic.9y' 'professional.course' nan\n",
      " 'university.degree' 'illiterate']\n",
      "default\n",
      "['no' nan 'yes']\n",
      "housing\n",
      "['no' 'yes' nan]\n",
      "loan\n",
      "['no' 'yes' nan]\n",
      "contact\n",
      "['telephone' 'cellular']\n",
      "month\n",
      "['may' 'jun' 'jul' 'aug' 'oct' 'nov' 'dec' 'mar' 'apr' 'sep']\n",
      "day_of_week\n",
      "['mon' 'tue' 'wed' 'thu' 'fri']\n",
      "poutcome\n",
      "['nonexistent' 'failure' 'success']\n",
      "y\n",
      "['no' 'yes']\n"
     ]
    }
   ],
   "source": [
    "for col in df.select_dtypes(include='object').columns:\n",
    "    print(col)\n",
    "    print(df[col].unique())"
   ]
  },
  {
   "cell_type": "code",
   "execution_count": 4,
   "id": "886443a9",
   "metadata": {},
   "outputs": [
    {
     "name": "stdout",
     "output_type": "stream",
     "text": [
      "age                  0\n",
      "job                330\n",
      "marital             80\n",
      "education         1731\n",
      "default           8597\n",
      "housing            990\n",
      "loan               990\n",
      "contact              0\n",
      "month                0\n",
      "day_of_week          0\n",
      "duration             0\n",
      "campaign             0\n",
      "pdays                0\n",
      "previous             0\n",
      "poutcome             0\n",
      "emp.var.rate         0\n",
      "cons.price.idx       0\n",
      "cons.conf.idx        0\n",
      "euribor3m            0\n",
      "nr.employed          0\n",
      "y                    0\n",
      "dtype: int64\n",
      "Index(['age', 'job', 'marital', 'education', 'default', 'housing', 'loan',\n",
      "       'contact', 'month', 'day_of_week', 'duration', 'campaign', 'pdays',\n",
      "       'previous', 'poutcome', 'emp.var.rate', 'cons.price.idx',\n",
      "       'cons.conf.idx', 'euribor3m', 'nr.employed', 'y'],\n",
      "      dtype='object')\n",
      "(41188, 21)\n",
      "<class 'pandas.core.frame.DataFrame'>\n",
      "RangeIndex: 41188 entries, 0 to 41187\n",
      "Data columns (total 21 columns):\n",
      " #   Column          Non-Null Count  Dtype  \n",
      "---  ------          --------------  -----  \n",
      " 0   age             41188 non-null  int64  \n",
      " 1   job             40858 non-null  object \n",
      " 2   marital         41108 non-null  object \n",
      " 3   education       39457 non-null  object \n",
      " 4   default         32591 non-null  object \n",
      " 5   housing         40198 non-null  object \n",
      " 6   loan            40198 non-null  object \n",
      " 7   contact         41188 non-null  object \n",
      " 8   month           41188 non-null  object \n",
      " 9   day_of_week     41188 non-null  object \n",
      " 10  duration        41188 non-null  int64  \n",
      " 11  campaign        41188 non-null  int64  \n",
      " 12  pdays           41188 non-null  int64  \n",
      " 13  previous        41188 non-null  int64  \n",
      " 14  poutcome        41188 non-null  object \n",
      " 15  emp.var.rate    41188 non-null  float64\n",
      " 16  cons.price.idx  41188 non-null  float64\n",
      " 17  cons.conf.idx   41188 non-null  float64\n",
      " 18  euribor3m       41188 non-null  float64\n",
      " 19  nr.employed     41188 non-null  float64\n",
      " 20  y               41188 non-null  object \n",
      "dtypes: float64(5), int64(5), object(11)\n",
      "memory usage: 6.6+ MB\n",
      "None\n",
      "               age      duration      campaign         pdays      previous  \\\n",
      "count  41188.00000  41188.000000  41188.000000  41188.000000  41188.000000   \n",
      "mean      40.02406    258.285010      2.567593    962.475454      0.172963   \n",
      "std       10.42125    259.279249      2.770014    186.910907      0.494901   \n",
      "min       17.00000      0.000000      1.000000      0.000000      0.000000   \n",
      "25%       32.00000    102.000000      1.000000    999.000000      0.000000   \n",
      "50%       38.00000    180.000000      2.000000    999.000000      0.000000   \n",
      "75%       47.00000    319.000000      3.000000    999.000000      0.000000   \n",
      "max       98.00000   4918.000000     56.000000    999.000000      7.000000   \n",
      "\n",
      "       emp.var.rate  cons.price.idx  cons.conf.idx     euribor3m   nr.employed  \n",
      "count  41188.000000    41188.000000   41188.000000  41188.000000  41188.000000  \n",
      "mean       0.081886       93.575664     -40.502600      3.621291   5167.035911  \n",
      "std        1.570960        0.578840       4.628198      1.734447     72.251528  \n",
      "min       -3.400000       92.201000     -50.800000      0.634000   4963.600000  \n",
      "25%       -1.800000       93.075000     -42.700000      1.344000   5099.100000  \n",
      "50%        1.100000       93.749000     -41.800000      4.857000   5191.000000  \n",
      "75%        1.400000       93.994000     -36.400000      4.961000   5228.100000  \n",
      "max        1.400000       94.767000     -26.900000      5.045000   5228.100000  \n"
     ]
    }
   ],
   "source": [
    "print(df.isnull().sum())\n",
    "print(df.columns)\n",
    "print(df.shape)\n",
    "print(df.info())\n",
    "print(df.describe())"
   ]
  },
  {
   "cell_type": "markdown",
   "id": "f9b862dd",
   "metadata": {},
   "source": []
  },
  {
   "cell_type": "code",
   "execution_count": 5,
   "id": "ceb6c823",
   "metadata": {},
   "outputs": [
    {
     "data": {
      "image/png": "[encoded data removed]",
      "text/plain": [
       "<Figure size 1008x720 with 12 Axes>"
      ]
     },
     "metadata": {},
     "output_type": "display_data"
    }
   ],
   "source": [
    "plt.style.use('seaborn-whitegrid')\n",
    "\n",
    "df.hist(bins=20, figsize=(14,10), color='#950010')\n",
    "plt.show()"
   ]
  },
  {
   "cell_type": "code",
   "execution_count": 6,
   "id": "dce8656c",
   "metadata": {},
   "outputs": [
    {
     "data": {
      "image/png": "[encoded data removed]",
      "text/plain": [
       "<Figure size 1440x1080 with 9 Axes>"
      ]
     },
     "metadata": {},
     "output_type": "display_data"
    }
   ],
   "source": [
    "cat_columns = ['job', 'marital', 'education', 'default', 'housing', 'loan', 'contact', 'month','poutcome']\n",
    "\n",
    "fig, axs = plt.subplots(3, 3, sharex=False, sharey=False, figsize=(20, 15))\n",
    "\n",
    "counter = 0\n",
    "for cat_column in cat_columns:\n",
    "    value_counts = df[cat_column].value_counts()\n",
    "    \n",
    "    trace_x = counter // 3\n",
    "    trace_y = counter % 3\n",
    "    x_pos = np.arange(0, len(value_counts))\n",
    "    \n",
    "    axs[trace_x, trace_y].bar(x_pos, value_counts.values, tick_label = value_counts.index)\n",
    "    \n",
    "    axs[trace_x, trace_y].set_title(cat_column)\n",
    "    \n",
    "    for tick in axs[trace_x, trace_y].get_xticklabels():\n",
    "        tick.set_rotation(90)\n",
    "    \n",
    "    counter += 1\n",
    "\n",
    "plt.show()"
   ]
  },
  {
   "cell_type": "code",
   "execution_count": 7,
   "id": "6bc91d37",
   "metadata": {},
   "outputs": [
    {
     "data": {
      "text/plain": [
       "<AxesSubplot:ylabel='y'>"
      ]
     },
     "execution_count": 7,
     "metadata": {},
     "output_type": "execute_result"
    },
    {
     "data": {
      "image/png": "[encoded data removed]",
      "text/plain": [
       "<Figure size 432x288 with 1 Axes>"
      ]
     },
     "metadata": {},
     "output_type": "display_data"
    }
   ],
   "source": [
    "\n",
    "labels =\"Did not Open Term Suscriptions\", \"Opened Term Suscriptions\"\n",
    "df[\"y\"].value_counts().plot.pie(explode=[0,0.25], autopct='%1.2f%%',  shadow=True, \n",
    "                                colors=[\"#950010\", \"#006d9c\"], \n",
    "                                labels=labels, fontsize=12, startangle=25)"
   ]
  },
  {
   "cell_type": "markdown",
   "id": "4fb0de6f",
   "metadata": {},
   "source": [
    "### Data cleaning"
   ]
  },
  {
   "cell_type": "markdown",
   "id": "21a2afaa",
   "metadata": {},
   "source": [
    "Standardize all the numeric variables. This is helpful for distance based machine learning algorithms like knn"
   ]
  },
  {
   "cell_type": "code",
   "execution_count": 8,
   "id": "1f667d14",
   "metadata": {},
   "outputs": [
    {
     "name": "stdout",
     "output_type": "stream",
     "text": [
      "Index(['age', 'job', 'marital', 'education', 'default', 'housing', 'loan',\n",
      "       'contact', 'month', 'day_of_week', 'duration', 'campaign', 'pdays',\n",
      "       'previous', 'poutcome', 'emp.var.rate', 'cons.price.idx',\n",
      "       'cons.conf.idx', 'euribor3m', 'nr.employed', 'y'],\n",
      "      dtype='object')\n",
      "(41188, 21)\n"
     ]
    }
   ],
   "source": [
    "# select all the numeric columns\n",
    "col_numeric = list(df.select_dtypes(include=[np.number]).columns.values)\n",
    "scaler = StandardScaler()\n",
    "df[col_numeric] = scaler.fit_transform(df[col_numeric])\n",
    "print(df.columns)\n",
    "print(df.shape)"
   ]
  },
  {
   "cell_type": "markdown",
   "id": "282d4fa3",
   "metadata": {},
   "source": [
    "- Drop the variable **duration**. (data description: \"Important note: this attribute highly affects the output target (e.g., if duration=0 then y='no'). Yet, the duration is not known before a call is performed. Also, after the end of the call y is obviously known. Thus, this input should only be included for benchmark purposes and should be discarded if the intention is to have a realistic predictive model.\")\n",
    "- duration is obtained after the call is made to the potential client so **if the target client has never received calls this feature is not that useful**. We can build a model that is capable to predict the chance of a customer subscripe a product BEFORE the contact is made. That's why we must drop duration.\n",
    "- Shown as above: total number of missing values in job, marital, education, default, housing, loan\n",
    "- Drop observations of variables with missing values less than 1000: job, marital, housing, loan\n",
    "- For variables with missing values more than 1000 (education, default), regard missing values as a new factor level\n",
    "- For each categorical variables, the number of observations of each factor levels is shown as below\n",
    "- 41188 --> 39803 observations"
   ]
  },
  {
   "cell_type": "code",
   "execution_count": 9,
   "id": "0c7258db",
   "metadata": {},
   "outputs": [
    {
     "name": "stdout",
     "output_type": "stream",
     "text": [
      "admin.           10181\n",
      "blue-collar       9001\n",
      "technician        6584\n",
      "services          3862\n",
      "management        2850\n",
      "retired           1671\n",
      "entrepreneur      1417\n",
      "self-employed     1376\n",
      "housemaid         1028\n",
      "unemployed         982\n",
      "student            851\n",
      "Name: job, dtype: int64\n",
      "married     24110\n",
      "single      11215\n",
      "divorced     4478\n",
      "Name: marital, dtype: int64\n",
      "university.degree      11821\n",
      "high.school             9244\n",
      "basic.9y                5856\n",
      "professional.course     5100\n",
      "basic.4y                4002\n",
      "basic.6y                2204\n",
      "unknown                 1558\n",
      "illiterate                18\n",
      "Name: education, dtype: int64\n",
      "no         31587\n",
      "unknown     8213\n",
      "yes            3\n",
      "Name: default, dtype: int64\n",
      "yes    21376\n",
      "no     18427\n",
      "Name: housing, dtype: int64\n",
      "no     33620\n",
      "yes     6183\n",
      "Name: loan, dtype: int64\n"
     ]
    }
   ],
   "source": [
    "df = df.drop('duration', axis=1)\n",
    "df = df[df['job'].notna()]\n",
    "df = df[df['marital'].notna()]\n",
    "df = df[df['housing'].notna()]\n",
    "df = df[df['loan'].notna()]\n",
    "df.education = df.education.fillna('unknown')\n",
    "df.default = df.default.fillna('unknown')\n",
    "print(df.job.value_counts())\n",
    "print(df.marital.value_counts())\n",
    "print(df.education.value_counts())\n",
    "print(df.default.value_counts())\n",
    "print(df.housing.value_counts())\n",
    "print(df.loan.value_counts())"
   ]
  },
  {
   "cell_type": "markdown",
   "id": "c6fa777b",
   "metadata": {},
   "source": [
    "- convert y, loan, housing as binary variables with level 1, 0\n",
    "- perform ordinal encoding on month and day_of_week\n",
    "- convert to dummy variables in the form of **VariableName_FactorLevel**: 'job', 'marital', 'education', 'contact', 'default', 'poutcome'"
   ]
  },
  {
   "cell_type": "code",
   "execution_count": 10,
   "id": "8f7afa95",
   "metadata": {},
   "outputs": [
    {
     "data": {
      "text/html": [
       "<div>\n",
       "<style scoped>\n",
       "    .dataframe tbody tr th:only-of-type {\n",
       "        vertical-align: middle;\n",
       "    }\n",
       "\n",
       "    .dataframe tbody tr th {\n",
       "        vertical-align: top;\n",
       "    }\n",
       "\n",
       "    .dataframe thead th {\n",
       "        text-align: right;\n",
       "    }\n",
       "</style>\n",
       "<table border=\"1\" class=\"dataframe\">\n",
       "  <thead>\n",
       "    <tr style=\"text-align: right;\">\n",
       "      <th></th>\n",
       "      <th>age</th>\n",
       "      <th>housing</th>\n",
       "      <th>loan</th>\n",
       "      <th>month</th>\n",
       "      <th>day_of_week</th>\n",
       "      <th>campaign</th>\n",
       "      <th>pdays</th>\n",
       "      <th>previous</th>\n",
       "      <th>emp.var.rate</th>\n",
       "      <th>cons.price.idx</th>\n",
       "      <th>...</th>\n",
       "      <th>education_high.school</th>\n",
       "      <th>education_illiterate</th>\n",
       "      <th>education_professional.course</th>\n",
       "      <th>education_university.degree</th>\n",
       "      <th>education_unknown</th>\n",
       "      <th>contact_telephone</th>\n",
       "      <th>default_unknown</th>\n",
       "      <th>default_yes</th>\n",
       "      <th>poutcome_nonexistent</th>\n",
       "      <th>poutcome_success</th>\n",
       "    </tr>\n",
       "  </thead>\n",
       "  <tbody>\n",
       "    <tr>\n",
       "      <th>0</th>\n",
       "      <td>1.533034</td>\n",
       "      <td>0</td>\n",
       "      <td>0</td>\n",
       "      <td>2</td>\n",
       "      <td>0</td>\n",
       "      <td>-0.565922</td>\n",
       "      <td>0.195414</td>\n",
       "      <td>-0.349494</td>\n",
       "      <td>0.648092</td>\n",
       "      <td>0.722722</td>\n",
       "      <td>...</td>\n",
       "      <td>0</td>\n",
       "      <td>0</td>\n",
       "      <td>0</td>\n",
       "      <td>0</td>\n",
       "      <td>0</td>\n",
       "      <td>1</td>\n",
       "      <td>0</td>\n",
       "      <td>0</td>\n",
       "      <td>1</td>\n",
       "      <td>0</td>\n",
       "    </tr>\n",
       "    <tr>\n",
       "      <th>1</th>\n",
       "      <td>1.628993</td>\n",
       "      <td>0</td>\n",
       "      <td>0</td>\n",
       "      <td>2</td>\n",
       "      <td>0</td>\n",
       "      <td>-0.565922</td>\n",
       "      <td>0.195414</td>\n",
       "      <td>-0.349494</td>\n",
       "      <td>0.648092</td>\n",
       "      <td>0.722722</td>\n",
       "      <td>...</td>\n",
       "      <td>1</td>\n",
       "      <td>0</td>\n",
       "      <td>0</td>\n",
       "      <td>0</td>\n",
       "      <td>0</td>\n",
       "      <td>1</td>\n",
       "      <td>1</td>\n",
       "      <td>0</td>\n",
       "      <td>1</td>\n",
       "      <td>0</td>\n",
       "    </tr>\n",
       "    <tr>\n",
       "      <th>2</th>\n",
       "      <td>-0.290186</td>\n",
       "      <td>1</td>\n",
       "      <td>0</td>\n",
       "      <td>2</td>\n",
       "      <td>0</td>\n",
       "      <td>-0.565922</td>\n",
       "      <td>0.195414</td>\n",
       "      <td>-0.349494</td>\n",
       "      <td>0.648092</td>\n",
       "      <td>0.722722</td>\n",
       "      <td>...</td>\n",
       "      <td>1</td>\n",
       "      <td>0</td>\n",
       "      <td>0</td>\n",
       "      <td>0</td>\n",
       "      <td>0</td>\n",
       "      <td>1</td>\n",
       "      <td>0</td>\n",
       "      <td>0</td>\n",
       "      <td>1</td>\n",
       "      <td>0</td>\n",
       "    </tr>\n",
       "    <tr>\n",
       "      <th>3</th>\n",
       "      <td>-0.002309</td>\n",
       "      <td>0</td>\n",
       "      <td>0</td>\n",
       "      <td>2</td>\n",
       "      <td>0</td>\n",
       "      <td>-0.565922</td>\n",
       "      <td>0.195414</td>\n",
       "      <td>-0.349494</td>\n",
       "      <td>0.648092</td>\n",
       "      <td>0.722722</td>\n",
       "      <td>...</td>\n",
       "      <td>0</td>\n",
       "      <td>0</td>\n",
       "      <td>0</td>\n",
       "      <td>0</td>\n",
       "      <td>0</td>\n",
       "      <td>1</td>\n",
       "      <td>0</td>\n",
       "      <td>0</td>\n",
       "      <td>1</td>\n",
       "      <td>0</td>\n",
       "    </tr>\n",
       "    <tr>\n",
       "      <th>4</th>\n",
       "      <td>1.533034</td>\n",
       "      <td>0</td>\n",
       "      <td>1</td>\n",
       "      <td>2</td>\n",
       "      <td>0</td>\n",
       "      <td>-0.565922</td>\n",
       "      <td>0.195414</td>\n",
       "      <td>-0.349494</td>\n",
       "      <td>0.648092</td>\n",
       "      <td>0.722722</td>\n",
       "      <td>...</td>\n",
       "      <td>1</td>\n",
       "      <td>0</td>\n",
       "      <td>0</td>\n",
       "      <td>0</td>\n",
       "      <td>0</td>\n",
       "      <td>1</td>\n",
       "      <td>0</td>\n",
       "      <td>0</td>\n",
       "      <td>1</td>\n",
       "      <td>0</td>\n",
       "    </tr>\n",
       "  </tbody>\n",
       "</table>\n",
       "<p>5 rows × 38 columns</p>\n",
       "</div>"
      ],
      "text/plain": [
       "        age  housing  loan  month  day_of_week  campaign     pdays  previous  \\\n",
       "0  1.533034        0     0      2            0 -0.565922  0.195414 -0.349494   \n",
       "1  1.628993        0     0      2            0 -0.565922  0.195414 -0.349494   \n",
       "2 -0.290186        1     0      2            0 -0.565922  0.195414 -0.349494   \n",
       "3 -0.002309        0     0      2            0 -0.565922  0.195414 -0.349494   \n",
       "4  1.533034        0     1      2            0 -0.565922  0.195414 -0.349494   \n",
       "\n",
       "   emp.var.rate  cons.price.idx  ...  education_high.school  \\\n",
       "0      0.648092        0.722722  ...                      0   \n",
       "1      0.648092        0.722722  ...                      1   \n",
       "2      0.648092        0.722722  ...                      1   \n",
       "3      0.648092        0.722722  ...                      0   \n",
       "4      0.648092        0.722722  ...                      1   \n",
       "\n",
       "   education_illiterate  education_professional.course  \\\n",
       "0                     0                              0   \n",
       "1                     0                              0   \n",
       "2                     0                              0   \n",
       "3                     0                              0   \n",
       "4                     0                              0   \n",
       "\n",
       "   education_university.degree  education_unknown  contact_telephone  \\\n",
       "0                            0                  0                  1   \n",
       "1                            0                  0                  1   \n",
       "2                            0                  0                  1   \n",
       "3                            0                  0                  1   \n",
       "4                            0                  0                  1   \n",
       "\n",
       "   default_unknown  default_yes  poutcome_nonexistent  poutcome_success  \n",
       "0                0            0                     1                 0  \n",
       "1                1            0                     1                 0  \n",
       "2                0            0                     1                 0  \n",
       "3                0            0                     1                 0  \n",
       "4                0            0                     1                 0  \n",
       "\n",
       "[5 rows x 38 columns]"
      ]
     },
     "execution_count": 10,
     "metadata": {},
     "output_type": "execute_result"
    }
   ],
   "source": [
    "df[['y', 'loan', 'housing']] = df[['y', 'loan', 'housing']].replace('yes', 1)\n",
    "df[['y', 'loan', 'housing']] = df[['y', 'loan', 'housing']].replace('no', 0)\n",
    "df['month'] = df['month'].replace('mar', 0)\n",
    "df['month'] = df['month'].replace('apr', 1)\n",
    "df['month'] = df['month'].replace('may', 2)\n",
    "df['month'] = df['month'].replace('jun', 3)\n",
    "df['month'] = df['month'].replace('jul', 4)\n",
    "df['month'] = df['month'].replace('aug', 5)\n",
    "df['month'] = df['month'].replace('sep', 6)\n",
    "df['month'] = df['month'].replace('oct', 7)\n",
    "df['month'] = df['month'].replace('nov', 8)\n",
    "df['month'] = df['month'].replace('dec', 9)\n",
    "df['day_of_week'] = df['day_of_week'].replace('mon', 0)\n",
    "df['day_of_week'] = df['day_of_week'].replace('tue', 1)\n",
    "df['day_of_week'] = df['day_of_week'].replace('wed', 2)\n",
    "df['day_of_week'] = df['day_of_week'].replace('thu', 3)\n",
    "df['day_of_week'] = df['day_of_week'].replace('fri', 4)\n",
    "cat_columns = ['job', 'marital', 'education', 'contact', 'default', 'poutcome']\n",
    "for col in  cat_columns:\n",
    "    df = pd.concat([df.drop(col, axis=1),\n",
    "                    pd.get_dummies(df[col], prefix=col, prefix_sep='_',\n",
    "                                   drop_first=True, dummy_na=False)], axis=1)\n",
    "df.head()"
   ]
  },
  {
   "cell_type": "code",
   "execution_count": 11,
   "id": "1ae132cd",
   "metadata": {},
   "outputs": [
    {
     "name": "stdout",
     "output_type": "stream",
     "text": [
      "0    35316\n",
      "1     4487\n",
      "Name: y, dtype: int64\n",
      "(39803, 38)\n"
     ]
    }
   ],
   "source": [
    "print(df.y.value_counts())\n",
    "print(df.shape)"
   ]
  },
  {
   "cell_type": "markdown",
   "id": "9bb9f281",
   "metadata": {},
   "source": [
    "# Model fitting"
   ]
  },
  {
   "cell_type": "code",
   "execution_count": 12,
   "id": "edf656b9",
   "metadata": {},
   "outputs": [],
   "source": [
    "# set all of the random states to be 123\n",
    "seed = 123"
   ]
  },
  {
   "cell_type": "markdown",
   "id": "c8d4204e",
   "metadata": {},
   "source": [
    "#### Help function\n",
    "- conf_matrix: return a pretty plot of confusion matrix\n",
    "- get_scores: return accuracy, "
   ]
  },
  {
   "cell_type": "code",
   "execution_count": 13,
   "id": "f97dccd6",
   "metadata": {},
   "outputs": [],
   "source": [
    "def conf_matrix(y, y_pred):\n",
    "    fig, ax =plt.subplots(figsize=(3,3))\n",
    "    labels=['No','Yes']\n",
    "    ax=sns.heatmap(confusion_matrix(y, y_pred), annot=True, cmap=\"Blues\", fmt='g', cbar=False)\n",
    "    plt.title('Accept Deposit?')\n",
    "    ax.xaxis.set_ticklabels(labels); ax.yaxis.set_ticklabels(labels);\n",
    "    \n",
    "def get_scores(y, y_pred, y_prob):\n",
    "    data={'Accuracy': np.round(accuracy_score(y, y_pred),3),\n",
    "    'Precision':np.round(precision_score(y, y_pred),3),\n",
    "    'Recall':np.round(recall_score(y, y_pred),3),\n",
    "    'F1':np.round(f1_score(y, y_pred),3),\n",
    "    'ROC AUC':np.round(roc_auc_score(y, y_prob),3)}\n",
    "    scores_df = pd.Series(data).to_frame('scores')\n",
    "    return scores_df"
   ]
  },
  {
   "cell_type": "markdown",
   "id": "ccea0165",
   "metadata": {},
   "source": [
    "### Baseline Model: logistic regression (first try)\n",
    "First\n",
    "- using all variables in the dataset\n",
    "- using stratified splits\n",
    "- training and test datasets have extremely inbalanced data\n",
    "There is high accuracy but low F1 score. The high accuracy is not informative."
   ]
  },
  {
   "cell_type": "code",
   "execution_count": 71,
   "id": "44e93d80",
   "metadata": {},
   "outputs": [
    {
     "name": "stdout",
     "output_type": "stream",
     "text": [
      "(29852, 37)\n",
      "(9951, 37)\n"
     ]
    },
    {
     "data": {
      "text/html": [
       "<div>\n",
       "<style scoped>\n",
       "    .dataframe tbody tr th:only-of-type {\n",
       "        vertical-align: middle;\n",
       "    }\n",
       "\n",
       "    .dataframe tbody tr th {\n",
       "        vertical-align: top;\n",
       "    }\n",
       "\n",
       "    .dataframe thead th {\n",
       "        text-align: right;\n",
       "    }\n",
       "</style>\n",
       "<table border=\"1\" class=\"dataframe\">\n",
       "  <thead>\n",
       "    <tr style=\"text-align: right;\">\n",
       "      <th></th>\n",
       "      <th>scores</th>\n",
       "    </tr>\n",
       "  </thead>\n",
       "  <tbody>\n",
       "    <tr>\n",
       "      <th>Accuracy</th>\n",
       "      <td>0.899</td>\n",
       "    </tr>\n",
       "    <tr>\n",
       "      <th>Precision</th>\n",
       "      <td>0.665</td>\n",
       "    </tr>\n",
       "    <tr>\n",
       "      <th>Recall</th>\n",
       "      <td>0.201</td>\n",
       "    </tr>\n",
       "    <tr>\n",
       "      <th>F1</th>\n",
       "      <td>0.309</td>\n",
       "    </tr>\n",
       "    <tr>\n",
       "      <th>ROC AUC</th>\n",
       "      <td>0.784</td>\n",
       "    </tr>\n",
       "  </tbody>\n",
       "</table>\n",
       "</div>"
      ],
      "text/plain": [
       "           scores\n",
       "Accuracy    0.899\n",
       "Precision   0.665\n",
       "Recall      0.201\n",
       "F1          0.309\n",
       "ROC AUC     0.784"
      ]
     },
     "execution_count": 71,
     "metadata": {},
     "output_type": "execute_result"
    },
    {
     "data": {
      "image/png": "[encoded data removed]",
      "text/plain": [
       "<Figure size 216x216 with 1 Axes>"
      ]
     },
     "metadata": {},
     "output_type": "display_data"
    }
   ],
   "source": [
    "X = df.drop('y', axis=1).values\n",
    "y = df['y'].values\n",
    "X_train, X_test, y_train, y_test = train_test_split(X, y, test_size=0.25, random_state=seed, stratify = y)\n",
    "print(X_train.shape)\n",
    "print(X_test.shape)\n",
    "glr_model = LogisticRegression(max_iter = 500, random_state=seed)\n",
    "glr_model.fit(pd.DataFrame(X_train), y_train)\n",
    "y_pred_glr = glr_model.predict(pd.DataFrame(X_test))\n",
    "y_prob_glr = glr_model.predict_proba(pd.DataFrame(X_test))\n",
    "conf_matrix(y_test, y_pred_glr)\n",
    "get_scores(y_test, y_pred_glr, y_prob_glr[:, 1])\n"
   ]
  },
  {
   "cell_type": "markdown",
   "id": "7c13a1bc",
   "metadata": {},
   "source": [
    "### Final Baseline Model\n",
    "After stratified sampling and resample a balanced test dataset. The accuracy is much lower, and no change to ROC AUC, but with higher F1 score. This will be used as the baseline model instead."
   ]
  },
  {
   "cell_type": "code",
   "execution_count": 15,
   "id": "e58155bd",
   "metadata": {},
   "outputs": [
    {
     "name": "stdout",
     "output_type": "stream",
     "text": [
      "(29852, 37)\n",
      "(2244, 37)\n"
     ]
    },
    {
     "data": {
      "text/html": [
       "<div>\n",
       "<style scoped>\n",
       "    .dataframe tbody tr th:only-of-type {\n",
       "        vertical-align: middle;\n",
       "    }\n",
       "\n",
       "    .dataframe tbody tr th {\n",
       "        vertical-align: top;\n",
       "    }\n",
       "\n",
       "    .dataframe thead th {\n",
       "        text-align: right;\n",
       "    }\n",
       "</style>\n",
       "<table border=\"1\" class=\"dataframe\">\n",
       "  <thead>\n",
       "    <tr style=\"text-align: right;\">\n",
       "      <th></th>\n",
       "      <th>scores</th>\n",
       "    </tr>\n",
       "  </thead>\n",
       "  <tbody>\n",
       "    <tr>\n",
       "      <th>Accuracy</th>\n",
       "      <td>0.593</td>\n",
       "    </tr>\n",
       "    <tr>\n",
       "      <th>Precision</th>\n",
       "      <td>0.930</td>\n",
       "    </tr>\n",
       "    <tr>\n",
       "      <th>Recall</th>\n",
       "      <td>0.201</td>\n",
       "    </tr>\n",
       "    <tr>\n",
       "      <th>F1</th>\n",
       "      <td>0.331</td>\n",
       "    </tr>\n",
       "    <tr>\n",
       "      <th>ROC AUC</th>\n",
       "      <td>0.786</td>\n",
       "    </tr>\n",
       "  </tbody>\n",
       "</table>\n",
       "</div>"
      ],
      "text/plain": [
       "           scores\n",
       "Accuracy    0.593\n",
       "Precision   0.930\n",
       "Recall      0.201\n",
       "F1          0.331\n",
       "ROC AUC     0.786"
      ]
     },
     "execution_count": 15,
     "metadata": {},
     "output_type": "execute_result"
    },
    {
     "data": {
      "image/png": "[encoded data removed]",
      "text/plain": [
       "<Figure size 216x216 with 1 Axes>"
      ]
     },
     "metadata": {},
     "output_type": "display_data"
    }
   ],
   "source": [
    "X = df.drop('y', axis=1).values\n",
    "y = df['y'].values\n",
    "X_train_full, X_test_full, y_train_full, y_test_full = train_test_split(X, y, test_size=0.25, random_state=seed, stratify = y)\n",
    "\n",
    "X_yes_full = X_test_full[y_test_full == 1]\n",
    "X_no_full  = X_test_full[y_test_full == 0]\n",
    "np.random.seed(seed)\n",
    "X_no_full = X_no_full[np.random.randint(X_no_full.shape[0], size=X_yes_full.shape[0]),:]\n",
    "\n",
    "X_test_full = pd.concat([pd.DataFrame(X_no_full), pd.DataFrame(X_yes_full)], join=\"inner\").values\n",
    "y_test_full = [0] * X_no_full.shape[0] + [1] * X_no_full.shape[0]\n",
    "print(X_train_full.shape)\n",
    "print(X_test_full.shape)\n",
    "glr_model.fit(pd.DataFrame(X_train_full), y_train_full)\n",
    "y_pred_glr_full = glr_model.predict(pd.DataFrame(X_test_full))\n",
    "y_prob_glr_full = glr_model.predict_proba(X_test_full)\n",
    "conf_matrix(y_test_full, y_pred_glr_full)\n",
    "get_scores(y_test_full, y_pred_glr_full, y_prob_glr_full[:, 1])"
   ]
  },
  {
   "cell_type": "markdown",
   "id": "ff882793",
   "metadata": {},
   "source": [
    "### Feature selection\n",
    "GOAL: \n",
    "1. We want to improve the computational efficiency \n",
    "2. reduce the generalization error of the model by removing irrelevant features or noise\n",
    "3. Since our primary goal is to help with client profiling and identify prospective clients, there should not be a large amount of predictors or layers in our model, and it’s better that the predictors in our model can be easily collected. \n",
    "- get the top 10 important variables \n",
    "- by correlation, random forest, xgboost\n",
    "- put 17 different variables into sequential feature selector to get final top 10 variables"
   ]
  },
  {
   "cell_type": "code",
   "execution_count": 16,
   "id": "87b17c71",
   "metadata": {},
   "outputs": [
    {
     "data": {
      "text/plain": [
       "Text(0.5, 0, 'correlation Feature Importance')"
      ]
     },
     "execution_count": 16,
     "metadata": {},
     "output_type": "execute_result"
    },
    {
     "data": {
      "image/png": "[encoded data removed]",
      "text/plain": [
       "<Figure size 432x288 with 1 Axes>"
      ]
     },
     "metadata": {},
     "output_type": "display_data"
    }
   ],
   "source": [
    "# remove y (index 13: HARDCODED!! NEED TO CHANGE!!)\n",
    "cor = df.corr()['y'][:].drop(df.corr()['y'][:].index[13]).abs()\n",
    "\n",
    "sorted_idx_cor = cor.argsort()\n",
    "\n",
    "plt.barh(df.drop('y', 1).columns[sorted_idx_cor[-20:]], cor[sorted_idx_cor[-20:]])\n",
    "plt.xlabel(\"correlation Feature Importance\")"
   ]
  },
  {
   "cell_type": "code",
   "execution_count": 17,
   "id": "a7818efe",
   "metadata": {},
   "outputs": [
    {
     "name": "stdout",
     "output_type": "stream",
     "text": [
      "[14:29:00] WARNING: /opt/concourse/worker/volumes/live/7a2b9f41-3287-451b-6691-43e9a6c0910f/volume/xgboost-split_1619728204606/work/src/learner.cc:1061: Starting in XGBoost 1.3.0, the default evaluation metric used with the objective 'binary:logistic' was changed from 'error' to 'logloss'. Explicitly set eval_metric if you'd like to restore the old behavior.\n"
     ]
    },
    {
     "data": {
      "text/plain": [
       "Text(0.5, 0, 'Xgboost Feature Importance')"
      ]
     },
     "execution_count": 17,
     "metadata": {},
     "output_type": "execute_result"
    },
    {
     "data": {
      "image/png": "[encoded data removed]",
      "text/plain": [
       "<Figure size 432x288 with 1 Axes>"
      ]
     },
     "metadata": {},
     "output_type": "display_data"
    }
   ],
   "source": [
    "# fit model no training data\n",
    "model = XGBClassifier(use_label_encoder =False)\n",
    "model.fit(df.drop('y', 1), df['y'])\n",
    "sorted_idx_xgb = model.feature_importances_.argsort()\n",
    "plt.barh(df.drop('y', 1).columns[sorted_idx_xgb[-20:]], model.feature_importances_[sorted_idx_xgb[-20:]])\n",
    "plt.xlabel(\"Xgboost Feature Importance\")"
   ]
  },
  {
   "cell_type": "code",
   "execution_count": 18,
   "id": "3b525b89",
   "metadata": {},
   "outputs": [
    {
     "data": {
      "text/plain": [
       "Text(0.5, 0, 'rf Feature Importance')"
      ]
     },
     "execution_count": 18,
     "metadata": {},
     "output_type": "execute_result"
    },
    {
     "data": {
      "image/png": "[encoded data removed]",
      "text/plain": [
       "<Figure size 432x288 with 1 Axes>"
      ]
     },
     "metadata": {},
     "output_type": "display_data"
    }
   ],
   "source": [
    "rf = RandomForestClassifier()\n",
    "rf.fit(df.drop('y', 1), df['y'])\n",
    "\n",
    "sorted_idx_rf = rf.feature_importances_.argsort()\n",
    "plt.barh(df.drop('y', 1).columns[sorted_idx_rf[-20:]], rf.feature_importances_[sorted_idx_rf[-20:]])\n",
    "plt.xlabel(\"rf Feature Importance\")"
   ]
  },
  {
   "cell_type": "markdown",
   "id": "046d5981",
   "metadata": {},
   "source": [
    "df_features_pre contain 17 variables that are selected from correlation, random forest, xgboost.<br>\n",
    "It does not contain the target variable."
   ]
  },
  {
   "cell_type": "code",
   "execution_count": 19,
   "id": "be171621",
   "metadata": {},
   "outputs": [
    {
     "data": {
      "text/plain": [
       "(39803, 17)"
      ]
     },
     "execution_count": 19,
     "metadata": {},
     "output_type": "execute_result"
    }
   ],
   "source": [
    "# put all the top 10 important variables from 3 different methods in one dataframe\n",
    "x = df.drop('y', 1).columns[sorted_idx_rf[-10:]]\n",
    "x = x.append(df.drop('y', 1).columns[sorted_idx_xgb[-10:]])\n",
    "x = x.append(df.drop('y', 1).columns[sorted_idx_cor[-10:]])\n",
    "df_features_pre = df.loc[:, df.columns.isin(x)]\n",
    "df_features_pre.shape"
   ]
  },
  {
   "cell_type": "code",
   "execution_count": 20,
   "id": "db4509cf",
   "metadata": {},
   "outputs": [
    {
     "name": "stderr",
     "output_type": "stream",
     "text": [
      "[Parallel(n_jobs=1)]: Using backend SequentialBackend with 1 concurrent workers.\n",
      "[Parallel(n_jobs=1)]: Done   1 out of   1 | elapsed:    0.0s remaining:    0.0s\n",
      "[Parallel(n_jobs=1)]: Done  17 out of  17 | elapsed:    0.5s finished\n",
      "\n",
      "[2021-11-23 14:29:07] Features: 1/10 -- score: 0.7480362942006638[Parallel(n_jobs=1)]: Using backend SequentialBackend with 1 concurrent workers.\n",
      "[Parallel(n_jobs=1)]: Done   1 out of   1 | elapsed:    0.0s remaining:    0.0s\n",
      "[Parallel(n_jobs=1)]: Done  16 out of  16 | elapsed:    0.5s finished\n",
      "\n",
      "[2021-11-23 14:29:08] Features: 2/10 -- score: 0.7654672773484407[Parallel(n_jobs=1)]: Using backend SequentialBackend with 1 concurrent workers.\n",
      "[Parallel(n_jobs=1)]: Done   1 out of   1 | elapsed:    0.0s remaining:    0.0s\n",
      "[Parallel(n_jobs=1)]: Done  15 out of  15 | elapsed:    0.5s finished\n",
      "\n",
      "[2021-11-23 14:29:08] Features: 3/10 -- score: 0.7695920506108143[Parallel(n_jobs=1)]: Using backend SequentialBackend with 1 concurrent workers.\n",
      "[Parallel(n_jobs=1)]: Done   1 out of   1 | elapsed:    0.0s remaining:    0.0s\n",
      "[Parallel(n_jobs=1)]: Done  14 out of  14 | elapsed:    0.5s finished\n",
      "\n",
      "[2021-11-23 14:29:09] Features: 4/10 -- score: 0.7730373020075894[Parallel(n_jobs=1)]: Using backend SequentialBackend with 1 concurrent workers.\n",
      "[Parallel(n_jobs=1)]: Done   1 out of   1 | elapsed:    0.0s remaining:    0.0s\n",
      "[Parallel(n_jobs=1)]: Done  13 out of  13 | elapsed:    0.6s finished\n",
      "\n",
      "[2021-11-23 14:29:09] Features: 5/10 -- score: 0.7789472850211518[Parallel(n_jobs=1)]: Using backend SequentialBackend with 1 concurrent workers.\n",
      "[Parallel(n_jobs=1)]: Done   1 out of   1 | elapsed:    0.1s remaining:    0.0s\n",
      "[Parallel(n_jobs=1)]: Done  12 out of  12 | elapsed:    0.6s finished\n",
      "\n",
      "[2021-11-23 14:29:10] Features: 6/10 -- score: 0.7806939368492656[Parallel(n_jobs=1)]: Using backend SequentialBackend with 1 concurrent workers.\n",
      "[Parallel(n_jobs=1)]: Done   1 out of   1 | elapsed:    0.0s remaining:    0.0s\n",
      "[Parallel(n_jobs=1)]: Done  11 out of  11 | elapsed:    0.6s finished\n",
      "\n",
      "[2021-11-23 14:29:10] Features: 7/10 -- score: 0.7811384352369386[Parallel(n_jobs=1)]: Using backend SequentialBackend with 1 concurrent workers.\n",
      "[Parallel(n_jobs=1)]: Done   1 out of   1 | elapsed:    0.1s remaining:    0.0s\n",
      "[Parallel(n_jobs=1)]: Done  10 out of  10 | elapsed:    0.6s finished\n",
      "\n",
      "[2021-11-23 14:29:11] Features: 8/10 -- score: 0.7812096001630463[Parallel(n_jobs=1)]: Using backend SequentialBackend with 1 concurrent workers.\n",
      "[Parallel(n_jobs=1)]: Done   1 out of   1 | elapsed:    0.1s remaining:    0.0s\n",
      "[Parallel(n_jobs=1)]: Done   9 out of   9 | elapsed:    0.8s finished\n",
      "\n",
      "[2021-11-23 14:29:12] Features: 9/10 -- score: 0.7812913196106505[Parallel(n_jobs=1)]: Using backend SequentialBackend with 1 concurrent workers.\n",
      "[Parallel(n_jobs=1)]: Done   1 out of   1 | elapsed:    0.1s remaining:    0.0s\n",
      "[Parallel(n_jobs=1)]: Done   8 out of   8 | elapsed:    0.8s finished\n",
      "\n",
      "[2021-11-23 14:29:13] Features: 10/10 -- score: 0.7809198383177307"
     ]
    }
   ],
   "source": [
    "sfs1 = SFS(glr_model, \n",
    "           k_features=10, \n",
    "           forward=True, \n",
    "           floating=False, \n",
    "           verbose=2,\n",
    "           scoring='roc_auc',\n",
    "           cv=0)\n",
    "\n",
    "sfs1 = sfs1.fit(df_features_pre, df['y'])"
   ]
  },
  {
   "cell_type": "markdown",
   "id": "28482697",
   "metadata": {},
   "source": [
    "df_features contain 10 variables selected from sequential feature selector"
   ]
  },
  {
   "cell_type": "code",
   "execution_count": 21,
   "id": "1f11f5d2",
   "metadata": {},
   "outputs": [
    {
     "name": "stdout",
     "output_type": "stream",
     "text": [
      "[1, 6, 7, 8, 10, 11, 12, 13, 15, 16]\n"
     ]
    }
   ],
   "source": [
    "#df_features = df_features_pre\n",
    "print(list(sfs1.k_feature_idx_))\n",
    "df_features = df_features_pre.iloc[:, list(sfs1.k_feature_idx_)]"
   ]
  },
  {
   "cell_type": "markdown",
   "id": "6f6bfafa",
   "metadata": {},
   "source": [
    "#### Logistic regression with selected features compared with baseline model\n",
    "Train/test split: first apply stratified sampling and then resample the test dataset to make it balanced<br>\n",
    "Training dataset is imbalanced. Test dataset is balanced.<br>\n",
    "The evaluation metric stayed pretty much the same compared with the baseline model. However, the features selection is able to reduce the dimensionality of the predictive models. While the dimensionality of the model decreases, the complexity of the model also decreases. This eventually leads to a faster model training time and convergence. It is reasonable to apply feature selection to reduces the model complexity, training time and overfitting while increasing the generalization ability.<br>\n",
    "In following analysis, we will train model **with feature selection and without feature selection**<br>\n",
    "There is no significant improvement in performance. We will try **oversampling** later to check if there is an improvement"
   ]
  },
  {
   "cell_type": "code",
   "execution_count": 22,
   "id": "ff73e394",
   "metadata": {
    "scrolled": false
   },
   "outputs": [
    {
     "data": {
      "text/html": [
       "<div>\n",
       "<style scoped>\n",
       "    .dataframe tbody tr th:only-of-type {\n",
       "        vertical-align: middle;\n",
       "    }\n",
       "\n",
       "    .dataframe tbody tr th {\n",
       "        vertical-align: top;\n",
       "    }\n",
       "\n",
       "    .dataframe thead th {\n",
       "        text-align: right;\n",
       "    }\n",
       "</style>\n",
       "<table border=\"1\" class=\"dataframe\">\n",
       "  <thead>\n",
       "    <tr style=\"text-align: right;\">\n",
       "      <th></th>\n",
       "      <th>scores</th>\n",
       "    </tr>\n",
       "  </thead>\n",
       "  <tbody>\n",
       "    <tr>\n",
       "      <th>Accuracy</th>\n",
       "      <td>0.580</td>\n",
       "    </tr>\n",
       "    <tr>\n",
       "      <th>Precision</th>\n",
       "      <td>0.937</td>\n",
       "    </tr>\n",
       "    <tr>\n",
       "      <th>Recall</th>\n",
       "      <td>0.171</td>\n",
       "    </tr>\n",
       "    <tr>\n",
       "      <th>F1</th>\n",
       "      <td>0.289</td>\n",
       "    </tr>\n",
       "    <tr>\n",
       "      <th>ROC AUC</th>\n",
       "      <td>0.785</td>\n",
       "    </tr>\n",
       "  </tbody>\n",
       "</table>\n",
       "</div>"
      ],
      "text/plain": [
       "           scores\n",
       "Accuracy    0.580\n",
       "Precision   0.937\n",
       "Recall      0.171\n",
       "F1          0.289\n",
       "ROC AUC     0.785"
      ]
     },
     "execution_count": 22,
     "metadata": {},
     "output_type": "execute_result"
    },
    {
     "data": {
      "image/png": "[encoded data removed]",
      "text/plain": [
       "<Figure size 216x216 with 1 Axes>"
      ]
     },
     "metadata": {},
     "output_type": "display_data"
    }
   ],
   "source": [
    "X = df_features.values\n",
    "y = df['y'].values\n",
    "X_train, X_test, y_train, y_test = train_test_split(X, y, test_size=0.25, random_state=seed, stratify = y)\n",
    "X_yes = X_test[y_test == 1]\n",
    "X_no  = X_test[y_test == 0]\n",
    "np.random.seed(seed)\n",
    "X_no = X_no[np.random.randint(X_no.shape[0], size=X_yes.shape[0]),:]\n",
    "\n",
    "X_test = pd.concat([pd.DataFrame(X_no), pd.DataFrame(X_yes)], join=\"inner\").values\n",
    "y_test = [0] * X_no.shape[0] + [1] * X_no.shape[0]\n",
    "\n",
    "glr_model.fit(pd.DataFrame(X_train), y_train)\n",
    "y_pred_glr = glr_model.predict(pd.DataFrame(X_test))\n",
    "y_prob_glr = glr_model.predict_proba(X_test)\n",
    "conf_matrix(y_test,y_pred_glr)\n",
    "get_scores(y_test,y_pred_glr, y_prob_glr[:, 1])"
   ]
  },
  {
   "cell_type": "markdown",
   "id": "f0121e44",
   "metadata": {},
   "source": [
    "### Train/Validation/Test Split"
   ]
  },
  {
   "cell_type": "markdown",
   "id": "9a379e84",
   "metadata": {},
   "source": [
    "To tackle inbalanced target variable:\n",
    "1. change the performance metric (accuracy is misleading, using confusion matrix, recall, precision, F1 score instead, ROC curves)\n",
    "2. Set classier parameter \"class_weight\" to \"balanced\"\n",
    "3. create a balanced test set and validation set for better comparison between models. The training set will still be inbalanced."
   ]
  },
  {
   "cell_type": "code",
   "execution_count": 23,
   "id": "79b54129",
   "metadata": {},
   "outputs": [
    {
     "data": {
      "text/plain": [
       "0    35316\n",
       "1     4487\n",
       "Name: y, dtype: int64"
      ]
     },
     "execution_count": 23,
     "metadata": {},
     "output_type": "execute_result"
    }
   ],
   "source": [
    "df.y.value_counts()"
   ]
  },
  {
   "cell_type": "markdown",
   "id": "a8e387eb",
   "metadata": {},
   "source": [
    "#### 3 different train/test split\n",
    "All test datasets are balanced.<br>\n",
    "1. stratified splits on dataset with feature selection\n",
    "2. stratified splits on dataset without feature selection\n",
    "3. oversample on training dataset with feature selection."
   ]
  },
  {
   "cell_type": "markdown",
   "id": "e1f25a04",
   "metadata": {},
   "source": [
    "#### inbalanced -- 10 variables\n",
    "train and test datasets with only 10 selected variables"
   ]
  },
  {
   "cell_type": "code",
   "execution_count": 24,
   "id": "7d574af6",
   "metadata": {},
   "outputs": [
    {
     "name": "stdout",
     "output_type": "stream",
     "text": [
      "(29852, 10)\n",
      "(2244, 10)\n"
     ]
    }
   ],
   "source": [
    "X = df_features.values\n",
    "y = df['y'].values\n",
    "X_train, X_test, y_train, y_test = train_test_split(X, y, test_size=0.25, random_state=seed, stratify = y)\n",
    "\n",
    "X_yes = X_test[y_test == 1]\n",
    "X_no  = X_test[y_test == 0]\n",
    "np.random.seed(seed)\n",
    "X_no = X_no[np.random.randint(X_no.shape[0], size=X_yes.shape[0]),:]\n",
    "\n",
    "X_test = pd.concat([pd.DataFrame(X_no), pd.DataFrame(X_yes)], join=\"inner\").values\n",
    "y_test = [0] * X_no.shape[0] + [1] * X_no.shape[0]\n",
    "\n",
    "\n",
    "print(X_train.shape)\n",
    "print(X_test.shape)"
   ]
  },
  {
   "cell_type": "markdown",
   "id": "592684e8",
   "metadata": {},
   "source": [
    "#### inbalanced -- 38 variables\n",
    "train and test datasets with all 38 variables"
   ]
  },
  {
   "cell_type": "code",
   "execution_count": 25,
   "id": "e7c70b0b",
   "metadata": {},
   "outputs": [
    {
     "name": "stdout",
     "output_type": "stream",
     "text": [
      "(29852, 37)\n",
      "(2244, 37)\n"
     ]
    }
   ],
   "source": [
    "X = df.drop('y', axis=1).values\n",
    "y = df['y'].values\n",
    "X_train_full, X_test_full, y_train_full, y_test_full = train_test_split(X, y, test_size=0.25, random_state=seed, stratify = y)\n",
    "\n",
    "X_yes_full = X_test_full[y_test_full == 1]\n",
    "X_no_full  = X_test_full[y_test_full == 0]\n",
    "np.random.seed(seed)\n",
    "X_no_full = X_no_full[np.random.randint(X_no_full.shape[0], size=X_yes_full.shape[0]),:]\n",
    "\n",
    "X_test_full = pd.concat([pd.DataFrame(X_no_full), pd.DataFrame(X_yes_full)], join=\"inner\").values\n",
    "y_test_full = [0] * X_no_full.shape[0] + [1] * X_no_full.shape[0]\n",
    "print(X_train_full.shape)\n",
    "print(X_test_full.shape)"
   ]
  },
  {
   "cell_type": "markdown",
   "id": "0efaca59",
   "metadata": {},
   "source": [
    "#### oversampling -- 10 variables\n",
    "The test dataset is a balanced dataset by applying the same procedure as above. The training dataset generated from over sampling"
   ]
  },
  {
   "cell_type": "code",
   "execution_count": 26,
   "id": "009cd95d",
   "metadata": {},
   "outputs": [
    {
     "name": "stdout",
     "output_type": "stream",
     "text": [
      "(52974, 10)\n",
      "(2244, 10)\n",
      "26487\n",
      "26487\n"
     ]
    }
   ],
   "source": [
    "oversample = RandomOverSampler(sampling_strategy='minority')\n",
    "X = df_features.values\n",
    "y = df['y'].values\n",
    "\n",
    "X_train_over, y_train_over = oversample.fit_resample(X_train, y_train)\n",
    "print(X_train_over.shape)\n",
    "print(X_test.shape)\n",
    "print(np.count_nonzero(y_train_over == 0))\n",
    "print(np.count_nonzero(y_train_over == 1))"
   ]
  },
  {
   "cell_type": "markdown",
   "id": "cc453ae4",
   "metadata": {},
   "source": [
    "#### compare undersampling with baseline logistic regression "
   ]
  },
  {
   "cell_type": "code",
   "execution_count": 27,
   "id": "e4099e96",
   "metadata": {},
   "outputs": [
    {
     "data": {
      "text/html": [
       "<div>\n",
       "<style scoped>\n",
       "    .dataframe tbody tr th:only-of-type {\n",
       "        vertical-align: middle;\n",
       "    }\n",
       "\n",
       "    .dataframe tbody tr th {\n",
       "        vertical-align: top;\n",
       "    }\n",
       "\n",
       "    .dataframe thead th {\n",
       "        text-align: right;\n",
       "    }\n",
       "</style>\n",
       "<table border=\"1\" class=\"dataframe\">\n",
       "  <thead>\n",
       "    <tr style=\"text-align: right;\">\n",
       "      <th></th>\n",
       "      <th>scores</th>\n",
       "    </tr>\n",
       "  </thead>\n",
       "  <tbody>\n",
       "    <tr>\n",
       "      <th>Accuracy</th>\n",
       "      <td>0.734</td>\n",
       "    </tr>\n",
       "    <tr>\n",
       "      <th>Precision</th>\n",
       "      <td>0.772</td>\n",
       "    </tr>\n",
       "    <tr>\n",
       "      <th>Recall</th>\n",
       "      <td>0.662</td>\n",
       "    </tr>\n",
       "    <tr>\n",
       "      <th>F1</th>\n",
       "      <td>0.713</td>\n",
       "    </tr>\n",
       "    <tr>\n",
       "      <th>ROC AUC</th>\n",
       "      <td>0.785</td>\n",
       "    </tr>\n",
       "  </tbody>\n",
       "</table>\n",
       "</div>"
      ],
      "text/plain": [
       "           scores\n",
       "Accuracy    0.734\n",
       "Precision   0.772\n",
       "Recall      0.662\n",
       "F1          0.713\n",
       "ROC AUC     0.785"
      ]
     },
     "execution_count": 27,
     "metadata": {},
     "output_type": "execute_result"
    },
    {
     "data": {
      "image/png": "[encoded data removed]",
      "text/plain": [
       "<Figure size 216x216 with 1 Axes>"
      ]
     },
     "metadata": {},
     "output_type": "display_data"
    }
   ],
   "source": [
    "glr_model.fit(pd.DataFrame(X_train_over), y_train_over)\n",
    "y_pred_glr_over = glr_model.predict(pd.DataFrame(X_test))\n",
    "y_prob_glr_over = glr_model.predict_proba(X_test)\n",
    "conf_matrix(y_test,y_pred_glr_over)\n",
    "get_scores(y_test,y_pred_glr_over, y_prob_glr_over[:, 1])"
   ]
  },
  {
   "cell_type": "code",
   "execution_count": 28,
   "id": "7b5e0693",
   "metadata": {},
   "outputs": [
    {
     "data": {
      "text/plain": [
       "<matplotlib.legend.Legend at 0x7fe6713ca3d0>"
      ]
     },
     "execution_count": 28,
     "metadata": {},
     "output_type": "execute_result"
    },
    {
     "data": {
      "image/png": "[encoded data removed]",
      "text/plain": [
       "<Figure size 324x360 with 1 Axes>"
      ]
     },
     "metadata": {},
     "output_type": "display_data"
    }
   ],
   "source": [
    "fprglr_over, tprglr_over, _ = roc_curve(y_test, y_prob_glr_over[:, 1])\n",
    "fprglr_full, tprglr_full, _ = roc_curve(y_test, y_prob_glr_full[:, 1])\n",
    "fprglr, tprglr, _ = roc_curve(y_test, y_prob_glr[:, 1])\n",
    "roc_aucglr_full = auc(fprglr_full, tprglr_full)\n",
    "roc_aucglr_over = auc(fprglr_over, tprglr_over)\n",
    "roc_aucglr = auc(fprglr, tprglr)\n",
    "\n",
    "fig = plt.figure(figsize=(4.5,5))\n",
    "plt.plot(fprglr_full, tprglr_full, 'b', label='GLR(FULL) AUC = %0.3f' % roc_aucglr_full)\n",
    "plt.plot(fprglr_over, tprglr_over, 'b', label='GLR(OVER) AUC = %0.3f' % roc_aucglr_over)\n",
    "plt.plot(fprglr, tprglr, 'b', label='GLR AUC = %0.3f' % roc_aucglr)\n",
    "plt.plot([0, 1], [0, 1],'r--')\n",
    "plt.title('ROC Comparison ',fontsize=14)\n",
    "plt.ylabel('True Positive Rate',fontsize=14)\n",
    "plt.xlabel('False Positive Rate',fontsize=14)\n",
    "plt.legend(loc = 'lower right', prop={'size': 14})"
   ]
  },
  {
   "cell_type": "code",
   "execution_count": 69,
   "id": "7c4acc02",
   "metadata": {},
   "outputs": [
    {
     "name": "stdout",
     "output_type": "stream",
     "text": [
      "Logistic: f1=0.289 auc=0.808\n",
      "Logistic_over: f1=0.713 auc=0.805\n",
      "Logistic_full: f1=0.331 auc=0.811\n"
     ]
    },
    {
     "data": {
      "image/png": "[encoded data removed]",
      "text/plain": [
       "<Figure size 432x288 with 1 Axes>"
      ]
     },
     "metadata": {},
     "output_type": "display_data"
    }
   ],
   "source": [
    "from sklearn.metrics import precision_recall_curve, f1_score\n",
    "lr_precision_over, lr_recall_over, _ = precision_recall_curve(y_test, y_prob_glr_over[:, 1])\n",
    "lr_auc_over, lr_f1_over = auc(lr_recall_over, lr_precision_over), f1_score(y_test, y_pred_glr_over)\n",
    "lr_precision_full, lr_recall_full, _ = precision_recall_curve(y_test, y_prob_glr_full[:, 1])\n",
    "lr_auc_full, lr_f1_full = auc(lr_recall_full, lr_precision_full), f1_score(y_test, y_pred_glr_full)\n",
    "lr_precision, lr_recall, _ = precision_recall_curve(y_test, y_prob_glr[:, 1])\n",
    "lr_auc, lr_f1 = auc(lr_recall, lr_precision), f1_score(y_test, y_pred_glr)\n",
    "\n",
    "\n",
    "#lr_f1, lr_auc = f1_score(y_test, y_prob_glr_over[:, 1]), auc(lr_recall, lr_precision)\n",
    "# summarize scores\n",
    "print('Logistic: f1=%.3f auc=%.3f' % (lr_f1, lr_auc))\n",
    "print('Logistic_over: f1=%.3f auc=%.3f' % (lr_f1_over, lr_auc_over))\n",
    "print('Logistic_full: f1=%.3f auc=%.3f' % (lr_f1_full, lr_auc_full))\n",
    "# plot the precision-recall curves\n",
    "no_skill = np.count_nonzero(y_test==1) / len(y_test)\n",
    "pyplot.plot([0, 1], [no_skill, no_skill], linestyle='--', label='baseline')\n",
    "pyplot.plot(lr_recall_over, lr_precision_over, marker='.', label='Logistic_over')\n",
    "pyplot.plot(lr_recall_full, lr_precision_full, marker='.', label='Logistic_full')\n",
    "pyplot.plot(lr_recall, lr_precision, marker='.', label='Logistic')\n",
    "# axis labels\n",
    "pyplot.xlabel('Recall')\n",
    "pyplot.ylabel('Precision')\n",
    "# show the legend\n",
    "pyplot.legend()\n",
    "# show the plot\n",
    "pyplot.show()"
   ]
  },
  {
   "cell_type": "markdown",
   "id": "951f8d07",
   "metadata": {},
   "source": [
    "#### Hyperparameter tuning"
   ]
  },
  {
   "cell_type": "code",
   "execution_count": 29,
   "id": "f1751964",
   "metadata": {},
   "outputs": [
    {
     "data": {
      "text/plain": [
       "'\\nfrom sklearn.model_selection import GridSearchCV\\n#knn\\ngrid_params_knn = { \\'n_neighbors\\' : [50, 100, 150, 200, 250, 300],\\n               \\'weights\\' : [\\'uniform\\',\\'distance\\'],\\n               \\'metric\\' : [\\'minkowski\\',\\'euclidean\\',\\'manhattan\\']}\\ngs_knn = GridSearchCV(KNeighborsClassifier(), grid_params_knn, verbose = 1, cv=3, n_jobs = -1)\\ngs_knn_res = gs.fit(X_train, y_train)\\ngs_knn_res.best_params_\\n\\n#adaboost\\ngrid_params_abc = {\\'n_estimators\\':[10, 50, 100, 500, 800, 1000],\\n                  \\'learning_rate\\':[0.0001, 0.001, 0.01, 0.1, 1.0]}\\ngs_abc = GridSearchCV(estimator=AdaBoostClassifier(), param_grid=grid_params_abc, n_jobs=-1, cv=3)\\ngs_abc_res = gs_abc.fit(X_train, y_train)\\ngs_abc_res.best_params_\\n\\n#xgboost\\ngrid_params_xgb =  {\"n_estimators\": [50, 100, 500, 1000, 2000],\\n            \"learning_rate\":[0.001, 0.01, 0.1],\\n            \"max_depth\":[4, 6, 8, 10]}\\ngs_xgb = GridSearchCV(xgb.XGBClassifier(), param_grid=grid_params_xgb, n_jobs=4, cv=3, verbose=3)\\ngs_xgb_res.fit(X_train, y_train)\\ngs_xgb_red.best_params_\\n\\n#decision tree\\ngrid_params_dtc = {\"criterion\":[\\'gini\\', \\'entropy\\'],\\n    \"max_depth\":range(1,20),\\n    \"min_samples_split\":range(1,10),\\n    \"min_samples_leaf\":range(1,5)}\\ngs_dtc = GridSearchCV(DecisionTreeClassifier(), param_grid = grid_params_dtc, verbose = 1, n_jobs = -1, cv = 3)\\ngs_dtc_res = gs_dtc.fit(X_train, y_train)\\ngs_dtc_res.best_params_\\n\\n#random forest\\ngrid_params_rfc = { \\'n_estimators\\': [200, 500],\\n    \\'max_features\\': [\\'auto\\', \\'sqrt\\', \\'log2\\'],\\n    \\'max_depth\\' : [4,5,6,7,8],\\n    \\'criterion\\' :[\\'gini\\', \\'entropy\\']}\\ngs_rfc = GridSearchCV(estimator=RandomForestClassifier(), param_grid=grid_params_rfc, cv= 5)\\ngs_rfc_res = gs_rfc.fit(X_train, y_train)\\ngs_rfc_res.best_params_\\n'"
      ]
     },
     "execution_count": 29,
     "metadata": {},
     "output_type": "execute_result"
    }
   ],
   "source": [
    "\"\"\"\n",
    "from sklearn.model_selection import GridSearchCV\n",
    "#knn\n",
    "grid_params_knn = { 'n_neighbors' : [50, 100, 150, 200, 250, 300],\n",
    "               'weights' : ['uniform','distance'],\n",
    "               'metric' : ['minkowski','euclidean','manhattan']}\n",
    "gs_knn = GridSearchCV(KNeighborsClassifier(), grid_params_knn, verbose = 1, cv=3, n_jobs = -1)\n",
    "gs_knn_res = gs.fit(X_train, y_train)\n",
    "gs_knn_res.best_params_\n",
    "\n",
    "#adaboost\n",
    "grid_params_abc = {'n_estimators':[10, 50, 100, 500, 800, 1000],\n",
    "                  'learning_rate':[0.0001, 0.001, 0.01, 0.1, 1.0]}\n",
    "gs_abc = GridSearchCV(estimator=AdaBoostClassifier(), param_grid=grid_params_abc, n_jobs=-1, cv=3)\n",
    "gs_abc_res = gs_abc.fit(X_train, y_train)\n",
    "gs_abc_res.best_params_\n",
    "\n",
    "#xgboost\n",
    "grid_params_xgb =  {\"n_estimators\": [50, 100, 500, 1000, 2000],\n",
    "            \"learning_rate\":[0.001, 0.01, 0.1],\n",
    "            \"max_depth\":[4, 6, 8, 10]}\n",
    "gs_xgb = GridSearchCV(xgb.XGBClassifier(), param_grid=grid_params_xgb, n_jobs=4, cv=3, verbose=3)\n",
    "gs_xgb_res.fit(X_train, y_train)\n",
    "gs_xgb_red.best_params_\n",
    "\n",
    "#decision tree\n",
    "grid_params_dtc = {\"criterion\":['gini', 'entropy'],\n",
    "    \"max_depth\":range(1,20),\n",
    "    \"min_samples_split\":range(1,10),\n",
    "    \"min_samples_leaf\":range(1,5)}\n",
    "gs_dtc = GridSearchCV(DecisionTreeClassifier(), param_grid = grid_params_dtc, verbose = 1, n_jobs = -1, cv = 3)\n",
    "gs_dtc_res = gs_dtc.fit(X_train, y_train)\n",
    "gs_dtc_res.best_params_\n",
    "\n",
    "#random forest\n",
    "grid_params_rfc = { 'n_estimators': [200, 500],\n",
    "    'max_features': ['auto', 'sqrt', 'log2'],\n",
    "    'max_depth' : [4,5,6,7,8],\n",
    "    'criterion' :['gini', 'entropy']}\n",
    "gs_rfc = GridSearchCV(estimator=RandomForestClassifier(), param_grid=grid_params_rfc, cv= 5)\n",
    "gs_rfc_res = gs_rfc.fit(X_train, y_train)\n",
    "gs_rfc_res.best_params_\n",
    "\"\"\""
   ]
  },
  {
   "cell_type": "markdown",
   "id": "a7115708",
   "metadata": {},
   "source": [
    "#### knn\n",
    "knn is highly susceptible to imbalanced dataset: https://www.quora.com/Why-does-knn-get-effected-by-the-class-imbalance"
   ]
  },
  {
   "cell_type": "code",
   "execution_count": 30,
   "id": "641e07f3",
   "metadata": {},
   "outputs": [
    {
     "data": {
      "text/html": [
       "<div>\n",
       "<style scoped>\n",
       "    .dataframe tbody tr th:only-of-type {\n",
       "        vertical-align: middle;\n",
       "    }\n",
       "\n",
       "    .dataframe tbody tr th {\n",
       "        vertical-align: top;\n",
       "    }\n",
       "\n",
       "    .dataframe thead th {\n",
       "        text-align: right;\n",
       "    }\n",
       "</style>\n",
       "<table border=\"1\" class=\"dataframe\">\n",
       "  <thead>\n",
       "    <tr style=\"text-align: right;\">\n",
       "      <th></th>\n",
       "      <th>scores</th>\n",
       "    </tr>\n",
       "  </thead>\n",
       "  <tbody>\n",
       "    <tr>\n",
       "      <th>Accuracy</th>\n",
       "      <td>0.598</td>\n",
       "    </tr>\n",
       "    <tr>\n",
       "      <th>Precision</th>\n",
       "      <td>0.933</td>\n",
       "    </tr>\n",
       "    <tr>\n",
       "      <th>Recall</th>\n",
       "      <td>0.212</td>\n",
       "    </tr>\n",
       "    <tr>\n",
       "      <th>F1</th>\n",
       "      <td>0.346</td>\n",
       "    </tr>\n",
       "    <tr>\n",
       "      <th>ROC AUC</th>\n",
       "      <td>0.803</td>\n",
       "    </tr>\n",
       "  </tbody>\n",
       "</table>\n",
       "</div>"
      ],
      "text/plain": [
       "           scores\n",
       "Accuracy    0.598\n",
       "Precision   0.933\n",
       "Recall      0.212\n",
       "F1          0.346\n",
       "ROC AUC     0.803"
      ]
     },
     "execution_count": 30,
     "metadata": {},
     "output_type": "execute_result"
    },
    {
     "data": {
      "image/png": "[encoded data removed]",
      "text/plain": [
       "<Figure size 216x216 with 1 Axes>"
      ]
     },
     "metadata": {},
     "output_type": "display_data"
    }
   ],
   "source": [
    "knn_model = KNeighborsClassifier(n_neighbors=300, weights = 'uniform', metric = 'manhattan')\n",
    "knn_model.fit(X_train, y_train)\n",
    "y_prob_knn = knn_model.predict_proba(X_test)\n",
    "y_pred_knn = knn_model.predict(X_test)\n",
    "conf_matrix(y_test,y_pred_knn)\n",
    "get_scores(y_test,y_pred_knn, y_prob_knn[:, 1])"
   ]
  },
  {
   "cell_type": "code",
   "execution_count": 31,
   "id": "a9e160fd",
   "metadata": {},
   "outputs": [
    {
     "data": {
      "text/html": [
       "<div>\n",
       "<style scoped>\n",
       "    .dataframe tbody tr th:only-of-type {\n",
       "        vertical-align: middle;\n",
       "    }\n",
       "\n",
       "    .dataframe tbody tr th {\n",
       "        vertical-align: top;\n",
       "    }\n",
       "\n",
       "    .dataframe thead th {\n",
       "        text-align: right;\n",
       "    }\n",
       "</style>\n",
       "<table border=\"1\" class=\"dataframe\">\n",
       "  <thead>\n",
       "    <tr style=\"text-align: right;\">\n",
       "      <th></th>\n",
       "      <th>scores</th>\n",
       "    </tr>\n",
       "  </thead>\n",
       "  <tbody>\n",
       "    <tr>\n",
       "      <th>Accuracy</th>\n",
       "      <td>0.580</td>\n",
       "    </tr>\n",
       "    <tr>\n",
       "      <th>Precision</th>\n",
       "      <td>0.937</td>\n",
       "    </tr>\n",
       "    <tr>\n",
       "      <th>Recall</th>\n",
       "      <td>0.171</td>\n",
       "    </tr>\n",
       "    <tr>\n",
       "      <th>F1</th>\n",
       "      <td>0.289</td>\n",
       "    </tr>\n",
       "    <tr>\n",
       "      <th>ROC AUC</th>\n",
       "      <td>0.794</td>\n",
       "    </tr>\n",
       "  </tbody>\n",
       "</table>\n",
       "</div>"
      ],
      "text/plain": [
       "           scores\n",
       "Accuracy    0.580\n",
       "Precision   0.937\n",
       "Recall      0.171\n",
       "F1          0.289\n",
       "ROC AUC     0.794"
      ]
     },
     "execution_count": 31,
     "metadata": {},
     "output_type": "execute_result"
    },
    {
     "data": {
      "image/png": "[encoded data removed]",
      "text/plain": [
       "<Figure size 216x216 with 1 Axes>"
      ]
     },
     "metadata": {},
     "output_type": "display_data"
    }
   ],
   "source": [
    "knn_model_full = KNeighborsClassifier(n_neighbors=300, weights = 'uniform', metric = 'manhattan')\n",
    "knn_model_full.fit(X_train_full, y_train_full)\n",
    "y_prob_knn_full = knn_model_full.predict_proba(X_test_full)\n",
    "y_pred_knn_full = knn_model_full.predict(X_test_full)\n",
    "conf_matrix(y_test_full,y_pred_knn_full)\n",
    "get_scores(y_test_full,y_pred_knn_full, y_prob_knn_full[:, 1])"
   ]
  },
  {
   "cell_type": "code",
   "execution_count": 32,
   "id": "66b343d6",
   "metadata": {},
   "outputs": [
    {
     "data": {
      "text/html": [
       "<div>\n",
       "<style scoped>\n",
       "    .dataframe tbody tr th:only-of-type {\n",
       "        vertical-align: middle;\n",
       "    }\n",
       "\n",
       "    .dataframe tbody tr th {\n",
       "        vertical-align: top;\n",
       "    }\n",
       "\n",
       "    .dataframe thead th {\n",
       "        text-align: right;\n",
       "    }\n",
       "</style>\n",
       "<table border=\"1\" class=\"dataframe\">\n",
       "  <thead>\n",
       "    <tr style=\"text-align: right;\">\n",
       "      <th></th>\n",
       "      <th>scores</th>\n",
       "    </tr>\n",
       "  </thead>\n",
       "  <tbody>\n",
       "    <tr>\n",
       "      <th>Accuracy</th>\n",
       "      <td>0.598</td>\n",
       "    </tr>\n",
       "    <tr>\n",
       "      <th>Precision</th>\n",
       "      <td>0.933</td>\n",
       "    </tr>\n",
       "    <tr>\n",
       "      <th>Recall</th>\n",
       "      <td>0.212</td>\n",
       "    </tr>\n",
       "    <tr>\n",
       "      <th>F1</th>\n",
       "      <td>0.346</td>\n",
       "    </tr>\n",
       "    <tr>\n",
       "      <th>ROC AUC</th>\n",
       "      <td>0.779</td>\n",
       "    </tr>\n",
       "  </tbody>\n",
       "</table>\n",
       "</div>"
      ],
      "text/plain": [
       "           scores\n",
       "Accuracy    0.598\n",
       "Precision   0.933\n",
       "Recall      0.212\n",
       "F1          0.346\n",
       "ROC AUC     0.779"
      ]
     },
     "execution_count": 32,
     "metadata": {},
     "output_type": "execute_result"
    },
    {
     "data": {
      "image/png": "[encoded data removed]",
      "text/plain": [
       "<Figure size 216x216 with 1 Axes>"
      ]
     },
     "metadata": {},
     "output_type": "display_data"
    }
   ],
   "source": [
    "knn_model_over = KNeighborsClassifier(n_neighbors=300, weights = 'uniform', metric = 'manhattan')\n",
    "knn_model_over.fit(X_train_over, y_train_over)\n",
    "y_prob_knn_over = knn_model_over.predict_proba(X_test)\n",
    "y_pred_knn_over = knn_model.predict(X_test)\n",
    "conf_matrix(y_test,y_pred_knn_over)\n",
    "get_scores(y_test,y_pred_knn_over, y_prob_knn_over[:, 1])"
   ]
  },
  {
   "cell_type": "code",
   "execution_count": 33,
   "id": "7de16353",
   "metadata": {
    "scrolled": true
   },
   "outputs": [
    {
     "data": {
      "text/plain": [
       "<matplotlib.legend.Legend at 0x7fe6a95b5430>"
      ]
     },
     "execution_count": 33,
     "metadata": {},
     "output_type": "execute_result"
    },
    {
     "data": {
      "image/png": "[encoded data removed]",
      "text/plain": [
       "<Figure size 324x360 with 1 Axes>"
      ]
     },
     "metadata": {},
     "output_type": "display_data"
    }
   ],
   "source": [
    "fprknn_over, tprknn_over, _ = roc_curve(y_test, y_prob_knn_over[:, 1])\n",
    "fprknn_full, tprknn_full, _ = roc_curve(y_test, y_prob_knn_full[:, 1])\n",
    "fprknn, tprknn, _ = roc_curve(y_test, y_prob_knn[:, 1])\n",
    "roc_aucknn_full = auc(fprknn_full, tprknn_full)\n",
    "roc_aucknn_over = auc(fprknn_over, tprknn_over)\n",
    "roc_aucknn = auc(fprknn, tprknn)\n",
    "\n",
    "fig = plt.figure(figsize=(4.5,5))\n",
    "plt.plot(fprknn_full, tprknn_full, 'b', label='knn(FULL) AUC = %0.3f' % roc_aucknn_full)\n",
    "plt.plot(fprknn_over, tprknn_over, 'b', label='knn(OVER) AUC = %0.3f' % roc_aucknn_over)\n",
    "plt.plot(fprknn, tprknn, 'b', label='knn AUC = %0.3f' % roc_aucglr)\n",
    "plt.plot([0, 1], [0, 1],'r--')\n",
    "plt.title('ROC Comparison ',fontsize=14)\n",
    "plt.ylabel('True Positive Rate',fontsize=14)\n",
    "plt.xlabel('False Positive Rate',fontsize=14)\n",
    "plt.legend(loc = 'lower right', prop={'size': 14})"
   ]
  },
  {
   "cell_type": "markdown",
   "id": "b8f84e41",
   "metadata": {},
   "source": [
    "#### adaboost"
   ]
  },
  {
   "cell_type": "code",
   "execution_count": 34,
   "id": "a1b03a0e",
   "metadata": {},
   "outputs": [
    {
     "data": {
      "text/html": [
       "<div>\n",
       "<style scoped>\n",
       "    .dataframe tbody tr th:only-of-type {\n",
       "        vertical-align: middle;\n",
       "    }\n",
       "\n",
       "    .dataframe tbody tr th {\n",
       "        vertical-align: top;\n",
       "    }\n",
       "\n",
       "    .dataframe thead th {\n",
       "        text-align: right;\n",
       "    }\n",
       "</style>\n",
       "<table border=\"1\" class=\"dataframe\">\n",
       "  <thead>\n",
       "    <tr style=\"text-align: right;\">\n",
       "      <th></th>\n",
       "      <th>scores</th>\n",
       "    </tr>\n",
       "  </thead>\n",
       "  <tbody>\n",
       "    <tr>\n",
       "      <th>Accuracy</th>\n",
       "      <td>0.588</td>\n",
       "    </tr>\n",
       "    <tr>\n",
       "      <th>Precision</th>\n",
       "      <td>0.946</td>\n",
       "    </tr>\n",
       "    <tr>\n",
       "      <th>Recall</th>\n",
       "      <td>0.186</td>\n",
       "    </tr>\n",
       "    <tr>\n",
       "      <th>F1</th>\n",
       "      <td>0.311</td>\n",
       "    </tr>\n",
       "    <tr>\n",
       "      <th>ROC AUC</th>\n",
       "      <td>0.802</td>\n",
       "    </tr>\n",
       "  </tbody>\n",
       "</table>\n",
       "</div>"
      ],
      "text/plain": [
       "           scores\n",
       "Accuracy    0.588\n",
       "Precision   0.946\n",
       "Recall      0.186\n",
       "F1          0.311\n",
       "ROC AUC     0.802"
      ]
     },
     "execution_count": 34,
     "metadata": {},
     "output_type": "execute_result"
    },
    {
     "data": {
      "image/png": "[encoded data removed]",
      "text/plain": [
       "<Figure size 216x216 with 1 Axes>"
      ]
     },
     "metadata": {},
     "output_type": "display_data"
    }
   ],
   "source": [
    "abc_model = AdaBoostClassifier(n_estimators=800, learning_rate=0.1, random_state=seed)\n",
    "abc_model.fit(X_train, y_train)\n",
    "y_prob_abc = abc_model.predict_proba(X_test)\n",
    "y_pred_abc = abc_model.predict(X_test)\n",
    "conf_matrix(y_test, y_pred_abc)\n",
    "get_scores(y_test, y_pred_abc, y_prob_abc[:, 1])"
   ]
  },
  {
   "cell_type": "code",
   "execution_count": 35,
   "id": "9ce7e2b7",
   "metadata": {
    "scrolled": true
   },
   "outputs": [
    {
     "data": {
      "text/html": [
       "<div>\n",
       "<style scoped>\n",
       "    .dataframe tbody tr th:only-of-type {\n",
       "        vertical-align: middle;\n",
       "    }\n",
       "\n",
       "    .dataframe tbody tr th {\n",
       "        vertical-align: top;\n",
       "    }\n",
       "\n",
       "    .dataframe thead th {\n",
       "        text-align: right;\n",
       "    }\n",
       "</style>\n",
       "<table border=\"1\" class=\"dataframe\">\n",
       "  <thead>\n",
       "    <tr style=\"text-align: right;\">\n",
       "      <th></th>\n",
       "      <th>scores</th>\n",
       "    </tr>\n",
       "  </thead>\n",
       "  <tbody>\n",
       "    <tr>\n",
       "      <th>Accuracy</th>\n",
       "      <td>0.590</td>\n",
       "    </tr>\n",
       "    <tr>\n",
       "      <th>Precision</th>\n",
       "      <td>0.943</td>\n",
       "    </tr>\n",
       "    <tr>\n",
       "      <th>Recall</th>\n",
       "      <td>0.193</td>\n",
       "    </tr>\n",
       "    <tr>\n",
       "      <th>F1</th>\n",
       "      <td>0.320</td>\n",
       "    </tr>\n",
       "    <tr>\n",
       "      <th>ROC AUC</th>\n",
       "      <td>0.803</td>\n",
       "    </tr>\n",
       "  </tbody>\n",
       "</table>\n",
       "</div>"
      ],
      "text/plain": [
       "           scores\n",
       "Accuracy    0.590\n",
       "Precision   0.943\n",
       "Recall      0.193\n",
       "F1          0.320\n",
       "ROC AUC     0.803"
      ]
     },
     "execution_count": 35,
     "metadata": {},
     "output_type": "execute_result"
    },
    {
     "data": {
      "image/png": "[encoded data removed]",
      "text/plain": [
       "<Figure size 216x216 with 1 Axes>"
      ]
     },
     "metadata": {},
     "output_type": "display_data"
    }
   ],
   "source": [
    "abc_model_full = AdaBoostClassifier(n_estimators=800, learning_rate=0.1, random_state=seed)\n",
    "abc_model_full.fit(X_train_full, y_train_full)\n",
    "y_prob_abc_full = abc_model_full.predict_proba(X_test_full)\n",
    "y_pred_abc_full = abc_model_full.predict(X_test_full)\n",
    "conf_matrix(y_test_full, y_pred_abc_full)\n",
    "get_scores(y_test_full, y_pred_abc_full, y_prob_abc_full[:, 1])"
   ]
  },
  {
   "cell_type": "code",
   "execution_count": 36,
   "id": "9a1b6183",
   "metadata": {},
   "outputs": [
    {
     "data": {
      "text/html": [
       "<div>\n",
       "<style scoped>\n",
       "    .dataframe tbody tr th:only-of-type {\n",
       "        vertical-align: middle;\n",
       "    }\n",
       "\n",
       "    .dataframe tbody tr th {\n",
       "        vertical-align: top;\n",
       "    }\n",
       "\n",
       "    .dataframe thead th {\n",
       "        text-align: right;\n",
       "    }\n",
       "</style>\n",
       "<table border=\"1\" class=\"dataframe\">\n",
       "  <thead>\n",
       "    <tr style=\"text-align: right;\">\n",
       "      <th></th>\n",
       "      <th>scores</th>\n",
       "    </tr>\n",
       "  </thead>\n",
       "  <tbody>\n",
       "    <tr>\n",
       "      <th>Accuracy</th>\n",
       "      <td>0.743</td>\n",
       "    </tr>\n",
       "    <tr>\n",
       "      <th>Precision</th>\n",
       "      <td>0.815</td>\n",
       "    </tr>\n",
       "    <tr>\n",
       "      <th>Recall</th>\n",
       "      <td>0.628</td>\n",
       "    </tr>\n",
       "    <tr>\n",
       "      <th>F1</th>\n",
       "      <td>0.710</td>\n",
       "    </tr>\n",
       "    <tr>\n",
       "      <th>ROC AUC</th>\n",
       "      <td>0.801</td>\n",
       "    </tr>\n",
       "  </tbody>\n",
       "</table>\n",
       "</div>"
      ],
      "text/plain": [
       "           scores\n",
       "Accuracy    0.743\n",
       "Precision   0.815\n",
       "Recall      0.628\n",
       "F1          0.710\n",
       "ROC AUC     0.801"
      ]
     },
     "execution_count": 36,
     "metadata": {},
     "output_type": "execute_result"
    },
    {
     "data": {
      "image/png": "[encoded data removed]",
      "text/plain": [
       "<Figure size 216x216 with 1 Axes>"
      ]
     },
     "metadata": {},
     "output_type": "display_data"
    }
   ],
   "source": [
    "abc_model_over = AdaBoostClassifier(n_estimators=800, learning_rate=0.1, random_state=seed)\n",
    "abc_model_over.fit(X_train_over, y_train_over)\n",
    "y_prob_abc_over = abc_model_over.predict_proba(X_test)\n",
    "y_pred_abc_over = abc_model_over.predict(X_test)\n",
    "conf_matrix(y_test, y_pred_abc_over)\n",
    "get_scores(y_test, y_pred_abc_over, y_prob_abc_over[:, 1])"
   ]
  },
  {
   "cell_type": "code",
   "execution_count": 37,
   "id": "d73d8644",
   "metadata": {},
   "outputs": [
    {
     "data": {
      "text/plain": [
       "<matplotlib.legend.Legend at 0x7fe659601640>"
      ]
     },
     "execution_count": 37,
     "metadata": {},
     "output_type": "execute_result"
    },
    {
     "data": {
      "image/png": "[encoded data removed]",
      "text/plain": [
       "<Figure size 324x360 with 1 Axes>"
      ]
     },
     "metadata": {},
     "output_type": "display_data"
    }
   ],
   "source": [
    "fprabc_over, tprabc_over, _ = roc_curve(y_test, y_prob_abc_over[:, 1])\n",
    "fprabc_full, tprabc_full, _ = roc_curve(y_test, y_prob_abc_full[:, 1])\n",
    "fprabc, tprabc, _ = roc_curve(y_test, y_prob_abc[:, 1])\n",
    "roc_aucabc_full = auc(fprabc_full, tprabc_full)\n",
    "roc_aucabc_over = auc(fprabc_over, tprabc_over)\n",
    "roc_aucabc = auc(fprabc, tprabc)\n",
    "\n",
    "fig = plt.figure(figsize=(4.5,5))\n",
    "plt.plot(fprabc_full, tprabc_full, 'b', label='abc(FULL) AUC = %0.3f' % roc_aucabc_full)\n",
    "plt.plot(fprabc_over, tprabc_over, 'b', label='abc(OVER) AUC = %0.3f' % roc_aucabc_over)\n",
    "plt.plot(fprabc, tprabc, 'b', label='abc AUC = %0.3f' % roc_aucabc)\n",
    "plt.plot([0, 1], [0, 1],'r--')\n",
    "plt.title('ROC Comparison ',fontsize=14)\n",
    "plt.ylabel('True Positive Rate',fontsize=14)\n",
    "plt.xlabel('False Positive Rate',fontsize=14)\n",
    "plt.legend(loc = 'lower right', prop={'size': 14})"
   ]
  },
  {
   "cell_type": "markdown",
   "id": "027a8208",
   "metadata": {},
   "source": [
    "#### xgboost"
   ]
  },
  {
   "cell_type": "code",
   "execution_count": 38,
   "id": "3fc9ed5c",
   "metadata": {},
   "outputs": [
    {
     "name": "stderr",
     "output_type": "stream",
     "text": [
      "/Users/zhaoxingwu/opt/anaconda3/lib/python3.8/site-packages/xgboost/sklearn.py:888: UserWarning: The use of label encoder in XGBClassifier is deprecated and will be removed in a future release. To remove this warning, do the following: 1) Pass option use_label_encoder=False when constructing XGBClassifier object; and 2) Encode your labels (y) as integers starting with 0, i.e. 0, 1, 2, ..., [num_class - 1].\n",
      "  warnings.warn(label_encoder_deprecation_msg, UserWarning)\n"
     ]
    },
    {
     "name": "stdout",
     "output_type": "stream",
     "text": [
      "[14:30:07] WARNING: /opt/concourse/worker/volumes/live/7a2b9f41-3287-451b-6691-43e9a6c0910f/volume/xgboost-split_1619728204606/work/src/learner.cc:541: \n",
      "Parameters: { class_weight, metrics } might not be used.\n",
      "\n",
      "  This may not be accurate due to some parameters are only used in language bindings but\n",
      "  passed down to XGBoost core.  Or some parameters are not used but slip through this\n",
      "  verification. Please open an issue if you find above cases.\n",
      "\n",
      "\n",
      "[14:30:07] WARNING: /opt/concourse/worker/volumes/live/7a2b9f41-3287-451b-6691-43e9a6c0910f/volume/xgboost-split_1619728204606/work/src/learner.cc:1061: Starting in XGBoost 1.3.0, the default evaluation metric used with the objective 'binary:logistic' was changed from 'error' to 'logloss'. Explicitly set eval_metric if you'd like to restore the old behavior.\n"
     ]
    },
    {
     "data": {
      "text/html": [
       "<div>\n",
       "<style scoped>\n",
       "    .dataframe tbody tr th:only-of-type {\n",
       "        vertical-align: middle;\n",
       "    }\n",
       "\n",
       "    .dataframe tbody tr th {\n",
       "        vertical-align: top;\n",
       "    }\n",
       "\n",
       "    .dataframe thead th {\n",
       "        text-align: right;\n",
       "    }\n",
       "</style>\n",
       "<table border=\"1\" class=\"dataframe\">\n",
       "  <thead>\n",
       "    <tr style=\"text-align: right;\">\n",
       "      <th></th>\n",
       "      <th>scores</th>\n",
       "    </tr>\n",
       "  </thead>\n",
       "  <tbody>\n",
       "    <tr>\n",
       "      <th>Accuracy</th>\n",
       "      <td>0.607</td>\n",
       "    </tr>\n",
       "    <tr>\n",
       "      <th>Precision</th>\n",
       "      <td>0.941</td>\n",
       "    </tr>\n",
       "    <tr>\n",
       "      <th>Recall</th>\n",
       "      <td>0.228</td>\n",
       "    </tr>\n",
       "    <tr>\n",
       "      <th>F1</th>\n",
       "      <td>0.367</td>\n",
       "    </tr>\n",
       "    <tr>\n",
       "      <th>ROC AUC</th>\n",
       "      <td>0.809</td>\n",
       "    </tr>\n",
       "  </tbody>\n",
       "</table>\n",
       "</div>"
      ],
      "text/plain": [
       "           scores\n",
       "Accuracy    0.607\n",
       "Precision   0.941\n",
       "Recall      0.228\n",
       "F1          0.367\n",
       "ROC AUC     0.809"
      ]
     },
     "execution_count": 38,
     "metadata": {},
     "output_type": "execute_result"
    },
    {
     "data": {
      "image/png": "[encoded data removed]",
      "text/plain": [
       "<Figure size 216x216 with 1 Axes>"
      ]
     },
     "metadata": {},
     "output_type": "display_data"
    }
   ],
   "source": [
    "xgb_model = xgb.XGBClassifier(n_estimators=100, max_depth=4, learning_rate=0.1, class_weight=\"balanced\", metrics=\"auc\")\n",
    "xgb_model.fit(X_train, y_train)\n",
    "y_prob_xgb = xgb_model.predict_proba(X_test)\n",
    "y_pred_xgb = xgb_model.predict(X_test)\n",
    "conf_matrix(y_test, y_pred_xgb)\n",
    "get_scores(y_test, y_pred_xgb, y_prob_xgb[:, 1])"
   ]
  },
  {
   "cell_type": "code",
   "execution_count": 39,
   "id": "34e52ec1",
   "metadata": {},
   "outputs": [
    {
     "name": "stderr",
     "output_type": "stream",
     "text": [
      "/Users/zhaoxingwu/opt/anaconda3/lib/python3.8/site-packages/xgboost/sklearn.py:888: UserWarning: The use of label encoder in XGBClassifier is deprecated and will be removed in a future release. To remove this warning, do the following: 1) Pass option use_label_encoder=False when constructing XGBClassifier object; and 2) Encode your labels (y) as integers starting with 0, i.e. 0, 1, 2, ..., [num_class - 1].\n",
      "  warnings.warn(label_encoder_deprecation_msg, UserWarning)\n"
     ]
    },
    {
     "name": "stdout",
     "output_type": "stream",
     "text": [
      "[14:30:07] WARNING: /opt/concourse/worker/volumes/live/7a2b9f41-3287-451b-6691-43e9a6c0910f/volume/xgboost-split_1619728204606/work/src/learner.cc:541: \n",
      "Parameters: { class_weight, metrics } might not be used.\n",
      "\n",
      "  This may not be accurate due to some parameters are only used in language bindings but\n",
      "  passed down to XGBoost core.  Or some parameters are not used but slip through this\n",
      "  verification. Please open an issue if you find above cases.\n",
      "\n",
      "\n",
      "[14:30:07] WARNING: /opt/concourse/worker/volumes/live/7a2b9f41-3287-451b-6691-43e9a6c0910f/volume/xgboost-split_1619728204606/work/src/learner.cc:1061: Starting in XGBoost 1.3.0, the default evaluation metric used with the objective 'binary:logistic' was changed from 'error' to 'logloss'. Explicitly set eval_metric if you'd like to restore the old behavior.\n"
     ]
    },
    {
     "data": {
      "text/html": [
       "<div>\n",
       "<style scoped>\n",
       "    .dataframe tbody tr th:only-of-type {\n",
       "        vertical-align: middle;\n",
       "    }\n",
       "\n",
       "    .dataframe tbody tr th {\n",
       "        vertical-align: top;\n",
       "    }\n",
       "\n",
       "    .dataframe thead th {\n",
       "        text-align: right;\n",
       "    }\n",
       "</style>\n",
       "<table border=\"1\" class=\"dataframe\">\n",
       "  <thead>\n",
       "    <tr style=\"text-align: right;\">\n",
       "      <th></th>\n",
       "      <th>scores</th>\n",
       "    </tr>\n",
       "  </thead>\n",
       "  <tbody>\n",
       "    <tr>\n",
       "      <th>Accuracy</th>\n",
       "      <td>0.611</td>\n",
       "    </tr>\n",
       "    <tr>\n",
       "      <th>Precision</th>\n",
       "      <td>0.953</td>\n",
       "    </tr>\n",
       "    <tr>\n",
       "      <th>Recall</th>\n",
       "      <td>0.234</td>\n",
       "    </tr>\n",
       "    <tr>\n",
       "      <th>F1</th>\n",
       "      <td>0.375</td>\n",
       "    </tr>\n",
       "    <tr>\n",
       "      <th>ROC AUC</th>\n",
       "      <td>0.811</td>\n",
       "    </tr>\n",
       "  </tbody>\n",
       "</table>\n",
       "</div>"
      ],
      "text/plain": [
       "           scores\n",
       "Accuracy    0.611\n",
       "Precision   0.953\n",
       "Recall      0.234\n",
       "F1          0.375\n",
       "ROC AUC     0.811"
      ]
     },
     "execution_count": 39,
     "metadata": {},
     "output_type": "execute_result"
    },
    {
     "data": {
      "image/png": "[encoded data removed]",
      "text/plain": [
       "<Figure size 216x216 with 1 Axes>"
      ]
     },
     "metadata": {},
     "output_type": "display_data"
    }
   ],
   "source": [
    "xgb_model_full = xgb.XGBClassifier(n_estimators=100, max_depth=4, learning_rate=0.1, class_weight=\"balanced\", metrics=\"auc\")\n",
    "xgb_model_full.fit(X_train_full, y_train_full)\n",
    "y_prob_xgb_full = xgb_model_full.predict_proba(X_test_full)\n",
    "y_pred_xgb_full = xgb_model_full.predict(X_test_full)\n",
    "conf_matrix(y_test_full, y_pred_xgb_full)\n",
    "get_scores(y_test_full, y_pred_xgb_full, y_prob_xgb_full[:, 1])"
   ]
  },
  {
   "cell_type": "code",
   "execution_count": 40,
   "id": "20dba8b1",
   "metadata": {},
   "outputs": [
    {
     "name": "stderr",
     "output_type": "stream",
     "text": [
      "/Users/zhaoxingwu/opt/anaconda3/lib/python3.8/site-packages/xgboost/sklearn.py:888: UserWarning: The use of label encoder in XGBClassifier is deprecated and will be removed in a future release. To remove this warning, do the following: 1) Pass option use_label_encoder=False when constructing XGBClassifier object; and 2) Encode your labels (y) as integers starting with 0, i.e. 0, 1, 2, ..., [num_class - 1].\n",
      "  warnings.warn(label_encoder_deprecation_msg, UserWarning)\n"
     ]
    },
    {
     "name": "stdout",
     "output_type": "stream",
     "text": [
      "[14:30:08] WARNING: /opt/concourse/worker/volumes/live/7a2b9f41-3287-451b-6691-43e9a6c0910f/volume/xgboost-split_1619728204606/work/src/learner.cc:541: \n",
      "Parameters: { class_weight, metrics } might not be used.\n",
      "\n",
      "  This may not be accurate due to some parameters are only used in language bindings but\n",
      "  passed down to XGBoost core.  Or some parameters are not used but slip through this\n",
      "  verification. Please open an issue if you find above cases.\n",
      "\n",
      "\n",
      "[14:30:08] WARNING: /opt/concourse/worker/volumes/live/7a2b9f41-3287-451b-6691-43e9a6c0910f/volume/xgboost-split_1619728204606/work/src/learner.cc:1061: Starting in XGBoost 1.3.0, the default evaluation metric used with the objective 'binary:logistic' was changed from 'error' to 'logloss'. Explicitly set eval_metric if you'd like to restore the old behavior.\n"
     ]
    },
    {
     "data": {
      "text/html": [
       "<div>\n",
       "<style scoped>\n",
       "    .dataframe tbody tr th:only-of-type {\n",
       "        vertical-align: middle;\n",
       "    }\n",
       "\n",
       "    .dataframe tbody tr th {\n",
       "        vertical-align: top;\n",
       "    }\n",
       "\n",
       "    .dataframe thead th {\n",
       "        text-align: right;\n",
       "    }\n",
       "</style>\n",
       "<table border=\"1\" class=\"dataframe\">\n",
       "  <thead>\n",
       "    <tr style=\"text-align: right;\">\n",
       "      <th></th>\n",
       "      <th>scores</th>\n",
       "    </tr>\n",
       "  </thead>\n",
       "  <tbody>\n",
       "    <tr>\n",
       "      <th>Accuracy</th>\n",
       "      <td>0.738</td>\n",
       "    </tr>\n",
       "    <tr>\n",
       "      <th>Precision</th>\n",
       "      <td>0.822</td>\n",
       "    </tr>\n",
       "    <tr>\n",
       "      <th>Recall</th>\n",
       "      <td>0.607</td>\n",
       "    </tr>\n",
       "    <tr>\n",
       "      <th>F1</th>\n",
       "      <td>0.698</td>\n",
       "    </tr>\n",
       "    <tr>\n",
       "      <th>ROC AUC</th>\n",
       "      <td>0.807</td>\n",
       "    </tr>\n",
       "  </tbody>\n",
       "</table>\n",
       "</div>"
      ],
      "text/plain": [
       "           scores\n",
       "Accuracy    0.738\n",
       "Precision   0.822\n",
       "Recall      0.607\n",
       "F1          0.698\n",
       "ROC AUC     0.807"
      ]
     },
     "execution_count": 40,
     "metadata": {},
     "output_type": "execute_result"
    },
    {
     "data": {
      "image/png": "[encoded data removed]",
      "text/plain": [
       "<Figure size 216x216 with 1 Axes>"
      ]
     },
     "metadata": {},
     "output_type": "display_data"
    }
   ],
   "source": [
    "xgb_model_over = xgb.XGBClassifier(n_estimators=100, max_depth=4, learning_rate=0.1, class_weight=\"balanced\", metrics=\"auc\")\n",
    "xgb_model_over.fit(X_train_over, y_train_over)\n",
    "y_prob_xgb_over = xgb_model_over.predict_proba(X_test)\n",
    "y_pred_xgb_over = xgb_model_over.predict(X_test)\n",
    "conf_matrix(y_test, y_pred_xgb_over)\n",
    "get_scores(y_test, y_pred_xgb_over, y_prob_xgb_over[:, 1])"
   ]
  },
  {
   "cell_type": "code",
   "execution_count": 41,
   "id": "87590c57",
   "metadata": {},
   "outputs": [
    {
     "data": {
      "text/plain": [
       "<matplotlib.legend.Legend at 0x7fe66933b490>"
      ]
     },
     "execution_count": 41,
     "metadata": {},
     "output_type": "execute_result"
    },
    {
     "data": {
      "image/png": "[encoded data removed]",
      "text/plain": [
       "<Figure size 324x360 with 1 Axes>"
      ]
     },
     "metadata": {},
     "output_type": "display_data"
    }
   ],
   "source": [
    "fprxgb_over, tprxgb_over, _ = roc_curve(y_test, y_prob_xgb_over[:, 1])\n",
    "fprxgb_full, tprxgb_full, _ = roc_curve(y_test, y_prob_xgb_full[:, 1])\n",
    "fprxgb, tprxgb, _ = roc_curve(y_test, y_prob_xgb[:, 1])\n",
    "roc_aucxgb_full = auc(fprxgb_full, tprxgb_full)\n",
    "roc_aucxgb_over = auc(fprxgb_over, tprxgb_over)\n",
    "roc_aucxgb = auc(fprxgb, tprxgb)\n",
    "\n",
    "fig = plt.figure(figsize=(4.5,5))\n",
    "plt.plot(fprxgb_full, tprxgb_full, 'b', label='xgb(FULL) AUC = %0.3f' % roc_aucxgb_full)\n",
    "plt.plot(fprxgb_over, tprxgb_over, 'b', label='xgb(OVER) AUC = %0.3f' % roc_aucxgb_over)\n",
    "plt.plot(fprxgb, tprxgb, 'b', label='xgb AUC = %0.3f' % roc_aucxgb)\n",
    "plt.plot([0, 1], [0, 1],'r--')\n",
    "plt.title('ROC Comparison ',fontsize=14)\n",
    "plt.ylabel('True Positive Rate',fontsize=14)\n",
    "plt.xlabel('False Positive Rate',fontsize=14)\n",
    "plt.legend(loc = 'lower right', prop={'size': 14})"
   ]
  },
  {
   "cell_type": "markdown",
   "id": "1f31f267",
   "metadata": {},
   "source": [
    "#### Decision Tree\n",
    "Decision trees often perform well on imbalanced datasets because their hierarchical structure allows them to learn signals from both classes."
   ]
  },
  {
   "cell_type": "code",
   "execution_count": 42,
   "id": "4fa42a28",
   "metadata": {},
   "outputs": [
    {
     "data": {
      "text/html": [
       "<div>\n",
       "<style scoped>\n",
       "    .dataframe tbody tr th:only-of-type {\n",
       "        vertical-align: middle;\n",
       "    }\n",
       "\n",
       "    .dataframe tbody tr th {\n",
       "        vertical-align: top;\n",
       "    }\n",
       "\n",
       "    .dataframe thead th {\n",
       "        text-align: right;\n",
       "    }\n",
       "</style>\n",
       "<table border=\"1\" class=\"dataframe\">\n",
       "  <thead>\n",
       "    <tr style=\"text-align: right;\">\n",
       "      <th></th>\n",
       "      <th>scores</th>\n",
       "    </tr>\n",
       "  </thead>\n",
       "  <tbody>\n",
       "    <tr>\n",
       "      <th>Accuracy</th>\n",
       "      <td>0.740</td>\n",
       "    </tr>\n",
       "    <tr>\n",
       "      <th>Precision</th>\n",
       "      <td>0.816</td>\n",
       "    </tr>\n",
       "    <tr>\n",
       "      <th>Recall</th>\n",
       "      <td>0.619</td>\n",
       "    </tr>\n",
       "    <tr>\n",
       "      <th>F1</th>\n",
       "      <td>0.704</td>\n",
       "    </tr>\n",
       "    <tr>\n",
       "      <th>ROC AUC</th>\n",
       "      <td>0.789</td>\n",
       "    </tr>\n",
       "  </tbody>\n",
       "</table>\n",
       "</div>"
      ],
      "text/plain": [
       "           scores\n",
       "Accuracy    0.740\n",
       "Precision   0.816\n",
       "Recall      0.619\n",
       "F1          0.704\n",
       "ROC AUC     0.789"
      ]
     },
     "execution_count": 42,
     "metadata": {},
     "output_type": "execute_result"
    },
    {
     "data": {
      "image/png": "[encoded data removed]",
      "text/plain": [
       "<Figure size 216x216 with 1 Axes>"
      ]
     },
     "metadata": {},
     "output_type": "display_data"
    }
   ],
   "source": [
    "dtc_model = DecisionTreeClassifier(criterion = 'entropy', max_depth=6, min_samples_leaf=4,\n",
    "                                   min_samples_split=2, random_state=seed, class_weight=\"balanced\")\n",
    "dtc_model.fit(X_train, y_train)\n",
    "y_prob_dtc = dtc_model.predict_proba(X_test)\n",
    "y_pred_dtc = dtc_model.predict(X_test)\n",
    "conf_matrix(y_test, y_pred_dtc)\n",
    "get_scores(y_test, y_pred_dtc, y_prob_dtc[:, 1])"
   ]
  },
  {
   "cell_type": "code",
   "execution_count": 43,
   "id": "d94af261",
   "metadata": {},
   "outputs": [
    {
     "data": {
      "text/html": [
       "<div>\n",
       "<style scoped>\n",
       "    .dataframe tbody tr th:only-of-type {\n",
       "        vertical-align: middle;\n",
       "    }\n",
       "\n",
       "    .dataframe tbody tr th {\n",
       "        vertical-align: top;\n",
       "    }\n",
       "\n",
       "    .dataframe thead th {\n",
       "        text-align: right;\n",
       "    }\n",
       "</style>\n",
       "<table border=\"1\" class=\"dataframe\">\n",
       "  <thead>\n",
       "    <tr style=\"text-align: right;\">\n",
       "      <th></th>\n",
       "      <th>scores</th>\n",
       "    </tr>\n",
       "  </thead>\n",
       "  <tbody>\n",
       "    <tr>\n",
       "      <th>Accuracy</th>\n",
       "      <td>0.731</td>\n",
       "    </tr>\n",
       "    <tr>\n",
       "      <th>Precision</th>\n",
       "      <td>0.836</td>\n",
       "    </tr>\n",
       "    <tr>\n",
       "      <th>Recall</th>\n",
       "      <td>0.574</td>\n",
       "    </tr>\n",
       "    <tr>\n",
       "      <th>F1</th>\n",
       "      <td>0.681</td>\n",
       "    </tr>\n",
       "    <tr>\n",
       "      <th>ROC AUC</th>\n",
       "      <td>0.778</td>\n",
       "    </tr>\n",
       "  </tbody>\n",
       "</table>\n",
       "</div>"
      ],
      "text/plain": [
       "           scores\n",
       "Accuracy    0.731\n",
       "Precision   0.836\n",
       "Recall      0.574\n",
       "F1          0.681\n",
       "ROC AUC     0.778"
      ]
     },
     "execution_count": 43,
     "metadata": {},
     "output_type": "execute_result"
    },
    {
     "data": {
      "image/png": "[encoded data removed]",
      "text/plain": [
       "<Figure size 216x216 with 1 Axes>"
      ]
     },
     "metadata": {},
     "output_type": "display_data"
    }
   ],
   "source": [
    "dtc_model_full = DecisionTreeClassifier(criterion = 'entropy', max_depth=6, min_samples_leaf=4,\n",
    "                                   min_samples_split=2, random_state=seed, class_weight=\"balanced\")\n",
    "dtc_model_full.fit(X_train_full, y_train_full)\n",
    "y_prob_dtc_full = dtc_model_full.predict_proba(X_test_full)\n",
    "y_pred_dtc_full = dtc_model_full.predict(X_test_full)\n",
    "conf_matrix(y_test_full, y_pred_dtc_full)\n",
    "get_scores(y_test_full, y_pred_dtc_full, y_prob_dtc_full[:, 1])"
   ]
  },
  {
   "cell_type": "code",
   "execution_count": 44,
   "id": "3a959424",
   "metadata": {},
   "outputs": [
    {
     "data": {
      "text/html": [
       "<div>\n",
       "<style scoped>\n",
       "    .dataframe tbody tr th:only-of-type {\n",
       "        vertical-align: middle;\n",
       "    }\n",
       "\n",
       "    .dataframe tbody tr th {\n",
       "        vertical-align: top;\n",
       "    }\n",
       "\n",
       "    .dataframe thead th {\n",
       "        text-align: right;\n",
       "    }\n",
       "</style>\n",
       "<table border=\"1\" class=\"dataframe\">\n",
       "  <thead>\n",
       "    <tr style=\"text-align: right;\">\n",
       "      <th></th>\n",
       "      <th>scores</th>\n",
       "    </tr>\n",
       "  </thead>\n",
       "  <tbody>\n",
       "    <tr>\n",
       "      <th>Accuracy</th>\n",
       "      <td>0.732</td>\n",
       "    </tr>\n",
       "    <tr>\n",
       "      <th>Precision</th>\n",
       "      <td>0.834</td>\n",
       "    </tr>\n",
       "    <tr>\n",
       "      <th>Recall</th>\n",
       "      <td>0.578</td>\n",
       "    </tr>\n",
       "    <tr>\n",
       "      <th>F1</th>\n",
       "      <td>0.683</td>\n",
       "    </tr>\n",
       "    <tr>\n",
       "      <th>ROC AUC</th>\n",
       "      <td>0.791</td>\n",
       "    </tr>\n",
       "  </tbody>\n",
       "</table>\n",
       "</div>"
      ],
      "text/plain": [
       "           scores\n",
       "Accuracy    0.732\n",
       "Precision   0.834\n",
       "Recall      0.578\n",
       "F1          0.683\n",
       "ROC AUC     0.791"
      ]
     },
     "execution_count": 44,
     "metadata": {},
     "output_type": "execute_result"
    },
    {
     "data": {
      "image/png": "[encoded data removed]",
      "text/plain": [
       "<Figure size 216x216 with 1 Axes>"
      ]
     },
     "metadata": {},
     "output_type": "display_data"
    }
   ],
   "source": [
    "dtc_model_over = DecisionTreeClassifier(criterion = 'entropy', max_depth=6, min_samples_leaf=4,\n",
    "                                   min_samples_split=2, random_state=seed, class_weight=\"balanced\")\n",
    "dtc_model_over.fit(X_train_over, y_train_over)\n",
    "y_prob_dtc_over = dtc_model_over.predict_proba(X_test)\n",
    "y_pred_dtc_over = dtc_model_over.predict(X_test)\n",
    "conf_matrix(y_test, y_pred_dtc_over)\n",
    "get_scores(y_test, y_pred_dtc_over, y_prob_dtc_over[:, 1])"
   ]
  },
  {
   "cell_type": "code",
   "execution_count": 45,
   "id": "072925f8",
   "metadata": {},
   "outputs": [
    {
     "data": {
      "text/plain": [
       "<matplotlib.legend.Legend at 0x7fe6aa857f70>"
      ]
     },
     "execution_count": 45,
     "metadata": {},
     "output_type": "execute_result"
    },
    {
     "data": {
      "image/png": "[encoded data removed]",
      "text/plain": [
       "<Figure size 324x360 with 1 Axes>"
      ]
     },
     "metadata": {},
     "output_type": "display_data"
    }
   ],
   "source": [
    "fprdtc_over, tprdtc_over, _ = roc_curve(y_test, y_prob_dtc_over[:, 1])\n",
    "fprdtc_full, tprdtc_full, _ = roc_curve(y_test, y_prob_dtc_full[:, 1])\n",
    "fprdtc, tprdtc, _ = roc_curve(y_test, y_prob_dtc[:, 1])\n",
    "roc_aucdtc_full = auc(fprdtc_full, tprdtc_full)\n",
    "roc_aucdtc_over = auc(fprdtc_over, tprdtc_over)\n",
    "roc_aucdtc = auc(fprdtc, tprdtc)\n",
    "\n",
    "fig = plt.figure(figsize=(4.5,5))\n",
    "plt.plot(fprdtc_full, tprdtc_full, 'b', label='dtc(FULL) AUC = %0.3f' % roc_aucdtc_full)\n",
    "plt.plot(fprdtc_over, tprdtc_over, 'b', label='dtc(OVER) AUC = %0.3f' % roc_aucdtc_over)\n",
    "plt.plot(fprdtc, tprdtc, 'b', label='dtc AUC = %0.3f' % roc_aucdtc)\n",
    "plt.plot([0, 1], [0, 1],'r--')\n",
    "plt.title('ROC Comparison ',fontsize=14)\n",
    "plt.ylabel('True Positive Rate',fontsize=14)\n",
    "plt.xlabel('False Positive Rate',fontsize=14)\n",
    "plt.legend(loc = 'lower right', prop={'size': 14})"
   ]
  },
  {
   "cell_type": "markdown",
   "id": "c422f742",
   "metadata": {},
   "source": [
    "#### Random Forest"
   ]
  },
  {
   "cell_type": "code",
   "execution_count": 46,
   "id": "dffd6a4e",
   "metadata": {},
   "outputs": [
    {
     "data": {
      "text/html": [
       "<div>\n",
       "<style scoped>\n",
       "    .dataframe tbody tr th:only-of-type {\n",
       "        vertical-align: middle;\n",
       "    }\n",
       "\n",
       "    .dataframe tbody tr th {\n",
       "        vertical-align: top;\n",
       "    }\n",
       "\n",
       "    .dataframe thead th {\n",
       "        text-align: right;\n",
       "    }\n",
       "</style>\n",
       "<table border=\"1\" class=\"dataframe\">\n",
       "  <thead>\n",
       "    <tr style=\"text-align: right;\">\n",
       "      <th></th>\n",
       "      <th>scores</th>\n",
       "    </tr>\n",
       "  </thead>\n",
       "  <tbody>\n",
       "    <tr>\n",
       "      <th>Accuracy</th>\n",
       "      <td>0.740</td>\n",
       "    </tr>\n",
       "    <tr>\n",
       "      <th>Precision</th>\n",
       "      <td>0.832</td>\n",
       "    </tr>\n",
       "    <tr>\n",
       "      <th>Recall</th>\n",
       "      <td>0.601</td>\n",
       "    </tr>\n",
       "    <tr>\n",
       "      <th>F1</th>\n",
       "      <td>0.698</td>\n",
       "    </tr>\n",
       "    <tr>\n",
       "      <th>ROC AUC</th>\n",
       "      <td>0.807</td>\n",
       "    </tr>\n",
       "  </tbody>\n",
       "</table>\n",
       "</div>"
      ],
      "text/plain": [
       "           scores\n",
       "Accuracy    0.740\n",
       "Precision   0.832\n",
       "Recall      0.601\n",
       "F1          0.698\n",
       "ROC AUC     0.807"
      ]
     },
     "execution_count": 46,
     "metadata": {},
     "output_type": "execute_result"
    },
    {
     "data": {
      "image/png": "[encoded data removed]",
      "text/plain": [
       "<Figure size 216x216 with 1 Axes>"
      ]
     },
     "metadata": {},
     "output_type": "display_data"
    }
   ],
   "source": [
    "rfc_model = RandomForestClassifier(criterion='gini', max_depth=6, max_features='sqrt',\n",
    "                                   n_estimators=200, class_weight=\"balanced\")\n",
    "rfc_model.fit(X_train, y_train)\n",
    "y_prob_rfc = rfc_model.predict_proba(X_test)\n",
    "y_pred_rfc = rfc_model.predict(X_test)\n",
    "conf_matrix(y_test, y_pred_rfc)\n",
    "get_scores(y_test, y_pred_rfc, y_prob_rfc[:, 1])"
   ]
  },
  {
   "cell_type": "code",
   "execution_count": 47,
   "id": "fa2dcc2e",
   "metadata": {},
   "outputs": [
    {
     "data": {
      "text/html": [
       "<div>\n",
       "<style scoped>\n",
       "    .dataframe tbody tr th:only-of-type {\n",
       "        vertical-align: middle;\n",
       "    }\n",
       "\n",
       "    .dataframe tbody tr th {\n",
       "        vertical-align: top;\n",
       "    }\n",
       "\n",
       "    .dataframe thead th {\n",
       "        text-align: right;\n",
       "    }\n",
       "</style>\n",
       "<table border=\"1\" class=\"dataframe\">\n",
       "  <thead>\n",
       "    <tr style=\"text-align: right;\">\n",
       "      <th></th>\n",
       "      <th>scores</th>\n",
       "    </tr>\n",
       "  </thead>\n",
       "  <tbody>\n",
       "    <tr>\n",
       "      <th>Accuracy</th>\n",
       "      <td>0.744</td>\n",
       "    </tr>\n",
       "    <tr>\n",
       "      <th>Precision</th>\n",
       "      <td>0.838</td>\n",
       "    </tr>\n",
       "    <tr>\n",
       "      <th>Recall</th>\n",
       "      <td>0.605</td>\n",
       "    </tr>\n",
       "    <tr>\n",
       "      <th>F1</th>\n",
       "      <td>0.703</td>\n",
       "    </tr>\n",
       "    <tr>\n",
       "      <th>ROC AUC</th>\n",
       "      <td>0.804</td>\n",
       "    </tr>\n",
       "  </tbody>\n",
       "</table>\n",
       "</div>"
      ],
      "text/plain": [
       "           scores\n",
       "Accuracy    0.744\n",
       "Precision   0.838\n",
       "Recall      0.605\n",
       "F1          0.703\n",
       "ROC AUC     0.804"
      ]
     },
     "execution_count": 47,
     "metadata": {},
     "output_type": "execute_result"
    },
    {
     "data": {
      "image/png": "[encoded data removed]",
      "text/plain": [
       "<Figure size 216x216 with 1 Axes>"
      ]
     },
     "metadata": {},
     "output_type": "display_data"
    }
   ],
   "source": [
    "rfc_model_full = RandomForestClassifier(criterion='gini', max_depth=6, max_features='sqrt',\n",
    "                                   n_estimators=200, class_weight=\"balanced\")\n",
    "rfc_model_full.fit(X_train_full, y_train_full)\n",
    "y_prob_rfc_full = rfc_model_full.predict_proba(X_test_full)\n",
    "y_pred_rfc_full = rfc_model_full.predict(X_test_full)\n",
    "conf_matrix(y_test_full, y_pred_rfc_full)\n",
    "get_scores(y_test_full, y_pred_rfc_full, y_prob_rfc_full[:, 1])"
   ]
  },
  {
   "cell_type": "code",
   "execution_count": 48,
   "id": "2fa9be51",
   "metadata": {},
   "outputs": [
    {
     "data": {
      "text/html": [
       "<div>\n",
       "<style scoped>\n",
       "    .dataframe tbody tr th:only-of-type {\n",
       "        vertical-align: middle;\n",
       "    }\n",
       "\n",
       "    .dataframe tbody tr th {\n",
       "        vertical-align: top;\n",
       "    }\n",
       "\n",
       "    .dataframe thead th {\n",
       "        text-align: right;\n",
       "    }\n",
       "</style>\n",
       "<table border=\"1\" class=\"dataframe\">\n",
       "  <thead>\n",
       "    <tr style=\"text-align: right;\">\n",
       "      <th></th>\n",
       "      <th>scores</th>\n",
       "    </tr>\n",
       "  </thead>\n",
       "  <tbody>\n",
       "    <tr>\n",
       "      <th>Accuracy</th>\n",
       "      <td>0.741</td>\n",
       "    </tr>\n",
       "    <tr>\n",
       "      <th>Precision</th>\n",
       "      <td>0.834</td>\n",
       "    </tr>\n",
       "    <tr>\n",
       "      <th>Recall</th>\n",
       "      <td>0.602</td>\n",
       "    </tr>\n",
       "    <tr>\n",
       "      <th>F1</th>\n",
       "      <td>0.699</td>\n",
       "    </tr>\n",
       "    <tr>\n",
       "      <th>ROC AUC</th>\n",
       "      <td>0.805</td>\n",
       "    </tr>\n",
       "  </tbody>\n",
       "</table>\n",
       "</div>"
      ],
      "text/plain": [
       "           scores\n",
       "Accuracy    0.741\n",
       "Precision   0.834\n",
       "Recall      0.602\n",
       "F1          0.699\n",
       "ROC AUC     0.805"
      ]
     },
     "execution_count": 48,
     "metadata": {},
     "output_type": "execute_result"
    },
    {
     "data": {
      "image/png": "[encoded data removed]",
      "text/plain": [
       "<Figure size 216x216 with 1 Axes>"
      ]
     },
     "metadata": {},
     "output_type": "display_data"
    }
   ],
   "source": [
    "rfc_model_over = RandomForestClassifier(criterion='gini', max_depth=6, max_features='sqrt',\n",
    "                                   n_estimators=200, class_weight=\"balanced\")\n",
    "rfc_model_over.fit(X_train_over, y_train_over)\n",
    "y_prob_rfc_over = rfc_model_over.predict_proba(X_test)\n",
    "y_pred_rfc_over = rfc_model_over.predict(X_test)\n",
    "conf_matrix(y_test, y_pred_rfc_over)\n",
    "get_scores(y_test, y_pred_rfc_over, y_prob_rfc_over[:, 1])"
   ]
  },
  {
   "cell_type": "code",
   "execution_count": 49,
   "id": "beb0df57",
   "metadata": {},
   "outputs": [],
   "source": [
    "fprxgb_over, tprxgb_over, _ = roc_curve(y_test, y_prob_xgb_over[:, 1])\n",
    "roc_aucxgb_over = auc(fprxgb_over, tprxgb_over)\n",
    "\n",
    "fprabc, tprabc, _ = roc_curve(y_test, y_prob_abc[:, 1])\n",
    "roc_aucabc = auc(fprabc, tprabc)\n",
    "fprknn, tprknn, _ = roc_curve(y_test, y_prob_knn[:, 1])\n",
    "roc_aucknn = auc(fprknn, tprknn)\n",
    "fprrfc, tprrfc, _ = roc_curve(y_test, y_prob_rfc[:, 1])\n",
    "roc_aucrfc = auc(fprrfc, tprrfc)\n",
    "#fpr, tpr, _ = roc_curve(y_test, y_prob_[:, 1])\n",
    "#roc_auc = auc(fpr, tpr)\n",
    "fprxgb, tprxgb, _ = roc_curve(y_test, y_prob_xgb[:, 1])\n",
    "roc_aucxgb = auc(fprxgb, tprxgb)"
   ]
  },
  {
   "cell_type": "code",
   "execution_count": 50,
   "id": "34e7caa6",
   "metadata": {},
   "outputs": [
    {
     "data": {
      "text/plain": [
       "<matplotlib.legend.Legend at 0x7fe65b0a9310>"
      ]
     },
     "execution_count": 50,
     "metadata": {},
     "output_type": "execute_result"
    },
    {
     "data": {
      "image/png": "[encoded data removed]",
      "text/plain": [
       "<Figure size 324x360 with 1 Axes>"
      ]
     },
     "metadata": {},
     "output_type": "display_data"
    }
   ],
   "source": [
    "fig = plt.figure(figsize=(4.5,5))\n",
    "plt.plot(fprglr, tprglr, 'b', label='glr AUC = %0.2f' % roc_aucglr)\n",
    "plt.plot(fprdtc, tprdtc, 'b', label='dtc AUC = %0.2f' % roc_aucdtc)\n",
    "plt.plot(fprxgb, tprxgb, 'b', label='XGB AUC = %0.2f' % roc_aucxgb)\n",
    "plt.plot(fprabc, tprabc, 'b', label='ABC AUC = %0.2f' % roc_aucabc)\n",
    "plt.plot(fprknn, tprknn, 'b', label='KNN AUC = %0.2f' % roc_aucknn)\n",
    "plt.plot(fprrfc, tprrfc, 'b', label='RFC AUC = %0.2f' % roc_aucrfc)\n",
    "plt.plot([0, 1], [0, 1],'r--')\n",
    "plt.title('ROC Comparison ',fontsize=14)\n",
    "plt.ylabel('True Positive Rate',fontsize=14)\n",
    "plt.xlabel('False Positive Rate',fontsize=14)\n",
    "plt.legend(loc = 'lower right', prop={'size': 14})"
   ]
  },
  {
   "cell_type": "code",
   "execution_count": null,
   "id": "5c48f8c0",
   "metadata": {},
   "outputs": [],
   "source": []
  }
 ],
 "metadata": {
  "kernelspec": {
   "display_name": "Python 3",
   "language": "python",
   "name": "python3"
  },
  "language_info": {
   "codemirror_mode": {
    "name": "ipython",
    "version": 3
   },
   "file_extension": ".py",
   "mimetype": "text/x-python",
   "name": "python",
   "nbconvert_exporter": "python",
   "pygments_lexer": "ipython3",
   "version": "3.8.8"
  }
 },
 "nbformat": 4,
 "nbformat_minor": 5
}
